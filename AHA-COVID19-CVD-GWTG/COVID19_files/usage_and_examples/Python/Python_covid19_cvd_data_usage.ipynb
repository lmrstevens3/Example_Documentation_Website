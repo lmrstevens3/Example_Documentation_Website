{
 "cells": [
  {
   "cell_type": "markdown",
   "metadata": {
    "hide_input": false
   },
   "source": [
    "<div style='padding:5px; border-bottom:0.25rem solid #f3f3f3; height:100px;'><img src='https://precision.heart.org/assets/images/aha-pmp-logo.png' alt='Drawing' style='width:135px; float:left;'><img src='https://precision.heart.org/sso/images/precision-medicine-platform-logo.png' alt='Drawing' style='width:140px; float:right;'></div>"
   ]
  },
  {
   "cell_type": "markdown",
   "metadata": {},
   "source": [
    "<div style=\"font-size:32px; padding:5px;\"><b>Loading and Summarizing GWTG Data in Python</b></div>"
   ]
  },
  {
   "cell_type": "markdown",
   "metadata": {},
   "source": [
    "<div style=\"font-size:22px; padding-bottom:10px; padding-top:20px; color:#6D6E71\"><b>Laura Stevens, Remy Poudel, Raakhee Iyer</b></div>\n",
    "<div style=\"font-size:18px; font-style:italic; color:#6D6E71\"><b>August 2020</b></div>\n"
   ]
  },
  {
   "cell_type": "markdown",
   "metadata": {
    "toc": true
   },
   "source": [
    "<h1>Table of Contents<span class=\"tocSkip\"></span></h1>\n",
    "<div class=\"toc\"><ul class=\"toc-item\"><li><span><a href=\"#Introduction-and-Software\" data-toc-modified-id=\"Introduction-and-Software-1\"><span style=\"width: 50% ; color: #c10e21 ; border-bottom: 0.25rem solid #f3f3f3\">Introduction and Software</span></a></span><ul class=\"toc-item\"><li><ul class=\"toc-item\"><li><span><a href=\"#Software\" data-toc-modified-id=\"Software-1.0.1\">Software</a></span></li><li><span><a href=\"#Package-Installation\" data-toc-modified-id=\"Package-Installation-1.0.2\">Package Installation</a></span></li><li><span><a href=\"#Importing-Packages\" data-toc-modified-id=\"Importing-Packages-1.0.3\">Importing Packages</a></span></li></ul></li></ul></li><li><span><a href=\"#Load-and-View-Data\" data-toc-modified-id=\"Load-and-View-Data-2\"><span style=\"width: 50% ; color: #c10e21 ; border-bottom: 0.25rem solid #f3f3f3\">Load and View Data</span></a></span><ul class=\"toc-item\"><li><ul class=\"toc-item\"><li><span><a href=\"#Loading-SAS-files-in-Python\" data-toc-modified-id=\"Loading-SAS-files-in-Python-2.0.1\">Loading SAS files in Python</a></span></li><li><span><a href=\"#Viewing-the-data\" data-toc-modified-id=\"Viewing-the-data-2.0.2\">Viewing the data</a></span></li></ul></li></ul></li><li><span><a href=\"#Tables-and-Summary-Statistics\" data-toc-modified-id=\"Tables-and-Summary-Statistics-3\"><span style=\"width: 50% ; color: #c10e21 ; border-bottom: 0.25rem solid #f3f3f3\">Tables and Summary Statistics</span></a></span><ul class=\"toc-item\"><li><ul class=\"toc-item\"><li><span><a href=\"#Tables-and-Frequencies\" data-toc-modified-id=\"Tables-and-Frequencies-3.0.1\">Tables and Frequencies</a></span></li><li><span><a href=\"#Summary-Statistics\" data-toc-modified-id=\"Summary-Statistics-3.0.2\">Summary Statistics</a></span></li></ul></li></ul></li><li><span><a href=\"#Need-Help?\" data-toc-modified-id=\"Need-Help?-4\"><span style=\"width: 50% ; color: #c10e21 ; border-bottom: 0.25rem solid #f3f3f3\">Need Help?</span></a></span><ul class=\"toc-item\"><li><ul class=\"toc-item\"><li><span><a href=\"#Internet-access-in-a-PMP-workspace\" data-toc-modified-id=\"Internet-access-in-a-PMP-workspace-4.0.1\">Internet access in a PMP workspace</a></span></li><li><span><a href=\"#Billing,-Data,-or-Analysis-Questions?\" data-toc-modified-id=\"Billing,-Data,-or-Analysis-Questions?-4.0.2\">Billing, Data, or Analysis Questions?</a></span></li><li><span><a href=\"#Technical-Questions-or-Issues?\" data-toc-modified-id=\"Technical-Questions-or-Issues?-4.0.3\">Technical Questions or Issues?</a></span></li></ul></li></ul></li><li><span><a href=\"#References\" data-toc-modified-id=\"References-5\"><span style=\"width: 50% ; color: #c10e21 ; border-bottom: 0.25rem solid #f3f3f3\">References</span></a></span><ul class=\"toc-item\"><li><ul class=\"toc-item\"><li><span><a href=\"#Helpful-Python-Packages\" data-toc-modified-id=\"Helpful-Python-Packages-5.0.1\">Helpful Python Packages</a></span></li><li><span><a href=\"#Python-Tutorials\" data-toc-modified-id=\"Python-Tutorials-5.0.2\">Python Tutorials</a></span></li><li><span><a href=\"#Academic-Publications-and-Guidelines\" data-toc-modified-id=\"Academic-Publications-and-Guidelines-5.0.3\">Academic Publications and Guidelines</a></span></li></ul></li></ul></li></ul></div>"
   ]
  },
  {
   "cell_type": "markdown",
   "metadata": {},
   "source": [
    "# <span style='width:50%; color:#C10E21; border-bottom:0.25rem  solid #f3f3f3;'>Introduction and Software</span>"
   ]
  },
  {
   "cell_type": "markdown",
   "metadata": {},
   "source": [
    "This notebook walks through loading, viewing and summarizing a GWTG dataset comprised of a sas7bdat data file and a sas7bcat formats file. The Tables and Summary statistics section provides a brief introduction for how to calculate frequencies and distribution statistics for categorical and continuous variables respectively. "
   ]
  },
  {
   "cell_type": "markdown",
   "metadata": {},
   "source": [
    "### Software\n",
    "\n",
    "This tutorial is completed in Python. All imported packages used in this tutorial are listed and installed in the sections below. Packages used in this tutorial as well as additional packages that are useful for tabulating and summarizing data are listed in the [References Section](#References).\n",
    "\n",
    "### Package Installation \n",
    "\n",
    "The following packages are used for this tutorial. The pandas package is installed as a default in the workspace. A reference for installing pandas can be accessed [here](https://pandas.pydata.org/pandas-docs/stable/getting_started/install.html#installing-from-pypi)\n",
    "Packages only need to be installed once. After initial installation, the cell below can be skipped or commented out (using \"#\")."
   ]
  },
  {
   "cell_type": "code",
   "execution_count": null,
   "metadata": {},
   "outputs": [],
   "source": [
    "%%bash\n",
    "sudo python3 -m pip install pyreadstat"
   ]
  },
  {
   "cell_type": "markdown",
   "metadata": {},
   "source": [
    "### Importing Packages\n",
    "\n",
    "Once all packages have been installed they can be used through the import command. The code below imports all packages for the tutorial."
   ]
  },
  {
   "cell_type": "code",
   "execution_count": 1,
   "metadata": {},
   "outputs": [],
   "source": [
    "import pandas as pd\n",
    "import pyreadstat"
   ]
  },
  {
   "cell_type": "markdown",
   "metadata": {},
   "source": [
    "# <span style='width:50%; color:#C10E21; border-bottom:0.25rem  solid #f3f3f3;'>Load and View Data</span>"
   ]
  },
  {
   "cell_type": "markdown",
   "metadata": {},
   "source": [
    "The root directory path in the workspace is <code>/mnt/workspace</code>, and is the directory for the files listed under the Jupyter Home tab as well as the default working directory for Jupyter, JupyterLab, R Studio,and SAS Studio. \n",
    "\n",
    "**AHA COVID-19 CVD Registry Powered by Get With the Guidelines Data**\n",
    "\n",
    "The data, documentation, and usage examples are available in the following workspace folders: \n",
    "\n",
    "* **Data:** <code>/mnt/workspace/GWTG/COVID19/data</code> (includes data and format sas files)\n",
    "* **Documentation:** <code>/mnt/workspace/GWTG/COVID19/documentation</code>.\n",
    "\n",
    "For a more indepth introduction to the data, check the [COVID-19 CVD Registry Researcher Resource](Website). The Explore and Discover section of this website can be used to review all documentation and explore variables available. The website is bookmarked in the favorites bar above.  "
   ]
  },
  {
   "cell_type": "code",
   "execution_count": 2,
   "metadata": {},
   "outputs": [],
   "source": [
    "dataFile = '/mnt/workspace/GWTG/COVID19/data/covid19_cvd_aug20.sas7bdat'\n",
    "formatsFile = '/mnt/workspace/GWTG/COVID19/data/R_Python_Windows_formats.sas7bcat'"
   ]
  },
  {
   "cell_type": "markdown",
   "metadata": {},
   "source": [
    "### Loading SAS files in Python\n",
    "The <code>pyreadstat</code> package can load both the sas data (sas7b<u>**d**</u>at) and sas formats (sas7b<u>**c**</u>at) files, as shown below. The <code>pyreadstat_sas7bdat()</code> command loads a list containing the data as a data frame and stores the  metadata in a metadata format object which is a structure similar to a json object or python dictionary. Categorical variables in the data are loaded as the datatype \"Category\" with values stored as character strings.   \n",
    "\n",
    "***NOTE:*** *Alternatively, the <code>pd.read_sas()</code> command from the pandas package can be used to load only the data file (sas7b<u>**d**</u>at) and will load the data numerically by default, and will also allow the user to specify if variables should be the datatype \"category\", using the <code>astype(\"category\")</code> method, if desired.*"
   ]
  },
  {
   "cell_type": "code",
   "execution_count": 3,
   "metadata": {},
   "outputs": [],
   "source": [
    "df, meta = pyreadstat.read_sas7bdat(dataFile, catalog_file=formatsFile, formats_as_category=True)"
   ]
  },
  {
   "cell_type": "markdown",
   "metadata": {},
   "source": [
    "### Viewing the data"
   ]
  },
  {
   "cell_type": "markdown",
   "metadata": {},
   "source": [
    "\n",
    "The following commands are helpful when viewing large datasets. \n",
    "* <code>head()</code> will show the first 5 rows. Similarly tail() will display the last 5 rows of the dataset. \n",
    "* <code>meta.variable_to_value()</code> can be used to view the column names and the formats for the dataset.\n",
    "* <code>meta.value_labels()</code> can be used to view the variable names (or field names) of the data and  coding values for the dataset.\n",
    "* <code>dtype()</code> will give an overview of the data type for the variable(or field names) in the dataset. \n",
    "    * To view a single variable, the <code>dtype()</code> command can be used by specifying the variable name in a dataset(ex. <code>df.SEX.dtype</code>). \n",
    "    \n",
    "***NOTE:*** The <code>dtype()</code> commands can be used on the entire dataset as well as a subset. Given the large size of the data, a subset used to limit the output displayed in the code cells below. \n",
    "* <code>pd.set_option()</code> can be used to display all the rows and to display the complete column contents for a pandas dataframe.          \n",
    "    * <code>pd.set_option('display.max_rows', None)</code>\n",
    "    * <code>pd.set_option('display.max_colwidth', 2000)</code>"
   ]
  },
  {
   "cell_type": "code",
   "execution_count": 4,
   "metadata": {
    "jupyter": {
     "outputs_hidden": true
    },
    "scrolled": true
   },
   "outputs": [
    {
     "data": {
      "text/html": [
       "<div>\n",
       "<style scoped>\n",
       "    .dataframe tbody tr th:only-of-type {\n",
       "        vertical-align: middle;\n",
       "    }\n",
       "\n",
       "    .dataframe tbody tr th {\n",
       "        vertical-align: top;\n",
       "    }\n",
       "\n",
       "    .dataframe thead th {\n",
       "        text-align: right;\n",
       "    }\n",
       "</style>\n",
       "<table border=\"1\" class=\"dataframe\">\n",
       "  <thead>\n",
       "    <tr style=\"text-align: right;\">\n",
       "      <th></th>\n",
       "      <th>RCRDNUM</th>\n",
       "      <th>CASE_ID</th>\n",
       "      <th>ANTCOGDVTPRO</th>\n",
       "      <th>ANTICOAGDVT</th>\n",
       "      <th>ANTICOAGDVTDT_PRC</th>\n",
       "      <th>SRC_FAC_ID</th>\n",
       "      <th>SEX</th>\n",
       "      <th>DOB_PRC</th>\n",
       "      <th>HOMELESS</th>\n",
       "      <th>PSOURCE_01</th>\n",
       "      <th>...</th>\n",
       "      <th>SUBQLMWHLWDOSDT</th>\n",
       "      <th>SUBQLMWHTHRPDOSDT</th>\n",
       "      <th>SUBQUFHDT</th>\n",
       "      <th>SUSVENARRDT</th>\n",
       "      <th>SYMONSTDT</th>\n",
       "      <th>TMPPERPACEDT</th>\n",
       "      <th>TOCZMBDT</th>\n",
       "      <th>VVECMOSTP</th>\n",
       "      <th>VVECMOSTRT</th>\n",
       "      <th>WARFARINDT</th>\n",
       "    </tr>\n",
       "  </thead>\n",
       "  <tbody>\n",
       "    <tr>\n",
       "      <th>0</th>\n",
       "      <td>PT0000001</td>\n",
       "      <td>1.0</td>\n",
       "      <td>NaN</td>\n",
       "      <td>NaN</td>\n",
       "      <td>NaN</td>\n",
       "      <td>1.0</td>\n",
       "      <td>1.0</td>\n",
       "      <td>NaN</td>\n",
       "      <td>NaN</td>\n",
       "      <td>NaN</td>\n",
       "      <td>...</td>\n",
       "      <td>NaN</td>\n",
       "      <td>NaN</td>\n",
       "      <td>NaN</td>\n",
       "      <td>NaN</td>\n",
       "      <td>NaN</td>\n",
       "      <td>NaN</td>\n",
       "      <td>NaN</td>\n",
       "      <td>NaN</td>\n",
       "      <td>NaN</td>\n",
       "      <td>NaN</td>\n",
       "    </tr>\n",
       "    <tr>\n",
       "      <th>1</th>\n",
       "      <td>PT0000002</td>\n",
       "      <td>2.0</td>\n",
       "      <td>1 = Yes</td>\n",
       "      <td>2 = Full Dose Enoxaparin</td>\n",
       "      <td>1 = Date and Time</td>\n",
       "      <td>1.0</td>\n",
       "      <td>1.0</td>\n",
       "      <td>1 = Date and Time</td>\n",
       "      <td>NaN</td>\n",
       "      <td>0.0</td>\n",
       "      <td>...</td>\n",
       "      <td>NaN</td>\n",
       "      <td>NaN</td>\n",
       "      <td>NaN</td>\n",
       "      <td>NaN</td>\n",
       "      <td>-10.0</td>\n",
       "      <td>NaN</td>\n",
       "      <td>NaN</td>\n",
       "      <td>NaN</td>\n",
       "      <td>NaN</td>\n",
       "      <td>NaN</td>\n",
       "    </tr>\n",
       "    <tr>\n",
       "      <th>2</th>\n",
       "      <td>PT0000003</td>\n",
       "      <td>3.0</td>\n",
       "      <td>1 = Yes</td>\n",
       "      <td>6 = Sub-Q Unfractionated Heparin</td>\n",
       "      <td>1 = Date and Time</td>\n",
       "      <td>1.0</td>\n",
       "      <td>1.0</td>\n",
       "      <td>1 = Date and Time</td>\n",
       "      <td>1.0</td>\n",
       "      <td>0.0</td>\n",
       "      <td>...</td>\n",
       "      <td>NaN</td>\n",
       "      <td>NaN</td>\n",
       "      <td>NaN</td>\n",
       "      <td>NaN</td>\n",
       "      <td>-3.0</td>\n",
       "      <td>NaN</td>\n",
       "      <td>NaN</td>\n",
       "      <td>NaN</td>\n",
       "      <td>NaN</td>\n",
       "      <td>NaN</td>\n",
       "    </tr>\n",
       "    <tr>\n",
       "      <th>3</th>\n",
       "      <td>PT0000004</td>\n",
       "      <td>4.0</td>\n",
       "      <td>1 = Yes</td>\n",
       "      <td>2 = Full Dose Enoxaparin</td>\n",
       "      <td>1 = Date and Time</td>\n",
       "      <td>1.0</td>\n",
       "      <td>1.0</td>\n",
       "      <td>1 = Date and Time</td>\n",
       "      <td>NaN</td>\n",
       "      <td>0.0</td>\n",
       "      <td>...</td>\n",
       "      <td>NaN</td>\n",
       "      <td>NaN</td>\n",
       "      <td>NaN</td>\n",
       "      <td>NaN</td>\n",
       "      <td>-3.0</td>\n",
       "      <td>NaN</td>\n",
       "      <td>NaN</td>\n",
       "      <td>NaN</td>\n",
       "      <td>NaN</td>\n",
       "      <td>NaN</td>\n",
       "    </tr>\n",
       "    <tr>\n",
       "      <th>4</th>\n",
       "      <td>PT0000005</td>\n",
       "      <td>5.0</td>\n",
       "      <td>2 = No</td>\n",
       "      <td>NaN</td>\n",
       "      <td>NaN</td>\n",
       "      <td>1.0</td>\n",
       "      <td>2.0</td>\n",
       "      <td>1 = Date and Time</td>\n",
       "      <td>NaN</td>\n",
       "      <td>1.0</td>\n",
       "      <td>...</td>\n",
       "      <td>NaN</td>\n",
       "      <td>NaN</td>\n",
       "      <td>NaN</td>\n",
       "      <td>5.416667</td>\n",
       "      <td>-12.0</td>\n",
       "      <td>NaN</td>\n",
       "      <td>NaN</td>\n",
       "      <td>NaN</td>\n",
       "      <td>NaN</td>\n",
       "      <td>NaN</td>\n",
       "    </tr>\n",
       "  </tbody>\n",
       "</table>\n",
       "<p>5 rows × 1428 columns</p>\n",
       "</div>"
      ],
      "text/plain": [
       "     RCRDNUM  CASE_ID ANTCOGDVTPRO                       ANTICOAGDVT  \\\n",
       "0  PT0000001      1.0          NaN                               NaN   \n",
       "1  PT0000002      2.0      1 = Yes          2 = Full Dose Enoxaparin   \n",
       "2  PT0000003      3.0      1 = Yes  6 = Sub-Q Unfractionated Heparin   \n",
       "3  PT0000004      4.0      1 = Yes          2 = Full Dose Enoxaparin   \n",
       "4  PT0000005      5.0       2 = No                               NaN   \n",
       "\n",
       "   ANTICOAGDVTDT_PRC  SRC_FAC_ID  SEX            DOB_PRC  HOMELESS  \\\n",
       "0                NaN         1.0  1.0                NaN       NaN   \n",
       "1  1 = Date and Time         1.0  1.0  1 = Date and Time       NaN   \n",
       "2  1 = Date and Time         1.0  1.0  1 = Date and Time       1.0   \n",
       "3  1 = Date and Time         1.0  1.0  1 = Date and Time       NaN   \n",
       "4                NaN         1.0  2.0  1 = Date and Time       NaN   \n",
       "\n",
       "   PSOURCE_01  ...  SUBQLMWHLWDOSDT  SUBQLMWHTHRPDOSDT  SUBQUFHDT  \\\n",
       "0         NaN  ...              NaN                NaN        NaN   \n",
       "1         0.0  ...              NaN                NaN        NaN   \n",
       "2         0.0  ...              NaN                NaN        NaN   \n",
       "3         0.0  ...              NaN                NaN        NaN   \n",
       "4         1.0  ...              NaN                NaN        NaN   \n",
       "\n",
       "   SUSVENARRDT  SYMONSTDT  TMPPERPACEDT  TOCZMBDT  VVECMOSTP  VVECMOSTRT  \\\n",
       "0          NaN        NaN           NaN       NaN        NaN         NaN   \n",
       "1          NaN      -10.0           NaN       NaN        NaN         NaN   \n",
       "2          NaN       -3.0           NaN       NaN        NaN         NaN   \n",
       "3          NaN       -3.0           NaN       NaN        NaN         NaN   \n",
       "4     5.416667      -12.0           NaN       NaN        NaN         NaN   \n",
       "\n",
       "   WARFARINDT  \n",
       "0         NaN  \n",
       "1         NaN  \n",
       "2         NaN  \n",
       "3         NaN  \n",
       "4         NaN  \n",
       "\n",
       "[5 rows x 1428 columns]"
      ]
     },
     "execution_count": 4,
     "metadata": {},
     "output_type": "execute_result"
    }
   ],
   "source": [
    "df.head()"
   ]
  },
  {
   "cell_type": "code",
   "execution_count": 5,
   "metadata": {},
   "outputs": [
    {
     "data": {
      "text/html": [
       "<div>\n",
       "<style scoped>\n",
       "    .dataframe tbody tr th:only-of-type {\n",
       "        vertical-align: middle;\n",
       "    }\n",
       "\n",
       "    .dataframe tbody tr th {\n",
       "        vertical-align: top;\n",
       "    }\n",
       "\n",
       "    .dataframe thead th {\n",
       "        text-align: right;\n",
       "    }\n",
       "</style>\n",
       "<table border=\"1\" class=\"dataframe\">\n",
       "  <thead>\n",
       "    <tr style=\"text-align: right;\">\n",
       "      <th></th>\n",
       "      <th>Column Names</th>\n",
       "      <th>Format</th>\n",
       "    </tr>\n",
       "  </thead>\n",
       "  <tbody>\n",
       "    <tr>\n",
       "      <th>0</th>\n",
       "      <td>ANTCOGDVTPRO</td>\n",
       "      <td>ANTCOGDVTPRO</td>\n",
       "    </tr>\n",
       "    <tr>\n",
       "      <th>1</th>\n",
       "      <td>ANTICOAGDVT</td>\n",
       "      <td>ANTICOAGDVT</td>\n",
       "    </tr>\n",
       "    <tr>\n",
       "      <th>2</th>\n",
       "      <td>ANTICOAGDVTDT_PRC</td>\n",
       "      <td>DTPRECISION</td>\n",
       "    </tr>\n",
       "    <tr>\n",
       "      <th>3</th>\n",
       "      <td>SEX</td>\n",
       "      <td>SEX</td>\n",
       "    </tr>\n",
       "    <tr>\n",
       "      <th>4</th>\n",
       "      <td>DOB_PRC</td>\n",
       "      <td>DTPRECISION</td>\n",
       "    </tr>\n",
       "    <tr>\n",
       "      <th>...</th>\n",
       "      <td>...</td>\n",
       "      <td>...</td>\n",
       "    </tr>\n",
       "    <tr>\n",
       "      <th>723</th>\n",
       "      <td>SLCRPU_50</td>\n",
       "      <td>SLCRPU</td>\n",
       "    </tr>\n",
       "    <tr>\n",
       "      <th>724</th>\n",
       "      <td>SLPROCLCTNU_50</td>\n",
       "      <td>SLPROCLCTNU</td>\n",
       "    </tr>\n",
       "    <tr>\n",
       "      <th>725</th>\n",
       "      <td>SLIL6U_50</td>\n",
       "      <td>SLIL6U</td>\n",
       "    </tr>\n",
       "    <tr>\n",
       "      <th>726</th>\n",
       "      <td>SLSCRUADM_50</td>\n",
       "      <td>SLSCRUADM</td>\n",
       "    </tr>\n",
       "    <tr>\n",
       "      <th>727</th>\n",
       "      <td>SLDDMERU_50</td>\n",
       "      <td>SLDDMERU</td>\n",
       "    </tr>\n",
       "  </tbody>\n",
       "</table>\n",
       "<p>728 rows × 2 columns</p>\n",
       "</div>"
      ],
      "text/plain": [
       "          Column Names        Format\n",
       "0         ANTCOGDVTPRO  ANTCOGDVTPRO\n",
       "1          ANTICOAGDVT   ANTICOAGDVT\n",
       "2    ANTICOAGDVTDT_PRC   DTPRECISION\n",
       "3                  SEX           SEX\n",
       "4              DOB_PRC   DTPRECISION\n",
       "..                 ...           ...\n",
       "723          SLCRPU_50        SLCRPU\n",
       "724     SLPROCLCTNU_50   SLPROCLCTNU\n",
       "725          SLIL6U_50        SLIL6U\n",
       "726       SLSCRUADM_50     SLSCRUADM\n",
       "727        SLDDMERU_50      SLDDMERU\n",
       "\n",
       "[728 rows x 2 columns]"
      ]
     },
     "execution_count": 5,
     "metadata": {},
     "output_type": "execute_result"
    }
   ],
   "source": [
    "#pd.set_option('display.max_rows', None)\n",
    "#pd.set_option('display.max_colwidth', 2000)\n",
    "\n",
    "#To display the column names with the format labels from the metadata contents.\n",
    "df_variable_values= pd.DataFrame(list(meta.variable_to_label.items()))\n",
    "df_variable_values = df_variable_values.rename(columns={0:'Column Names',1:'Format'})\n",
    "df_variable_values"
   ]
  },
  {
   "cell_type": "code",
   "execution_count": 6,
   "metadata": {
    "jupyter": {
     "outputs_hidden": true
    },
    "scrolled": true
   },
   "outputs": [
    {
     "data": {
      "text/html": [
       "<div>\n",
       "<style scoped>\n",
       "    .dataframe tbody tr th:only-of-type {\n",
       "        vertical-align: middle;\n",
       "    }\n",
       "\n",
       "    .dataframe tbody tr th {\n",
       "        vertical-align: top;\n",
       "    }\n",
       "\n",
       "    .dataframe thead th {\n",
       "        text-align: right;\n",
       "    }\n",
       "</style>\n",
       "<table border=\"1\" class=\"dataframe\">\n",
       "  <thead>\n",
       "    <tr style=\"text-align: right;\">\n",
       "      <th></th>\n",
       "      <th>Format</th>\n",
       "      <th>Values</th>\n",
       "    </tr>\n",
       "  </thead>\n",
       "  <tbody>\n",
       "    <tr>\n",
       "      <th>0</th>\n",
       "      <td>ACEIDURHOSP</td>\n",
       "      <td>{nan: '. = Missing', 1.0: '1 = Yes', 2.0: '2 =...</td>\n",
       "    </tr>\n",
       "    <tr>\n",
       "      <th>1</th>\n",
       "      <td>ANTICOAGDVT</td>\n",
       "      <td>{nan: '. = Missing', 1.0: '1 = Full Dose DOAC'...</td>\n",
       "    </tr>\n",
       "    <tr>\n",
       "      <th>2</th>\n",
       "      <td>AVAIL</td>\n",
       "      <td>{nan: '. = Missing', 0.0: '0 = Not Available',...</td>\n",
       "    </tr>\n",
       "    <tr>\n",
       "      <th>3</th>\n",
       "      <td>CAUSDTHDOC</td>\n",
       "      <td>{nan: '. = Missing', 1.0: '1 = Yes', 2.0: '2 =...</td>\n",
       "    </tr>\n",
       "    <tr>\n",
       "      <th>4</th>\n",
       "      <td>COVCLINTRIAL</td>\n",
       "      <td>{nan: '. = Missing', 1.0: '1 = Yes', 2.0: '2 =...</td>\n",
       "    </tr>\n",
       "    <tr>\n",
       "      <th>...</th>\n",
       "      <td>...</td>\n",
       "      <td>...</td>\n",
       "    </tr>\n",
       "    <tr>\n",
       "      <th>104</th>\n",
       "      <td>PATMANICU</td>\n",
       "      <td>{nan: '. = Missing', 1.0: '1 = Yes', 2.0: '2 =...</td>\n",
       "    </tr>\n",
       "    <tr>\n",
       "      <th>105</th>\n",
       "      <td>RITOLOPVR</td>\n",
       "      <td>{nan: '. = Missing', 1.0: '1 = Yes', 2.0: '2 =...</td>\n",
       "    </tr>\n",
       "    <tr>\n",
       "      <th>106</th>\n",
       "      <td>SLTROPUADM</td>\n",
       "      <td>{nan: '. = Missing', 1.0: '1 = ng/mL', 2.0: '2...</td>\n",
       "    </tr>\n",
       "    <tr>\n",
       "      <th>107</th>\n",
       "      <td>SUBQUFH</td>\n",
       "      <td>{nan: '. = Missing', 1.0: '1 = Yes', 2.0: '2 =...</td>\n",
       "    </tr>\n",
       "    <tr>\n",
       "      <th>108</th>\n",
       "      <td>WBCUADM</td>\n",
       "      <td>{nan: '. = Missing', 1.0: '1 = K/uL', 2.0: '2 ...</td>\n",
       "    </tr>\n",
       "  </tbody>\n",
       "</table>\n",
       "<p>109 rows × 2 columns</p>\n",
       "</div>"
      ],
      "text/plain": [
       "           Format                                             Values\n",
       "0     ACEIDURHOSP  {nan: '. = Missing', 1.0: '1 = Yes', 2.0: '2 =...\n",
       "1     ANTICOAGDVT  {nan: '. = Missing', 1.0: '1 = Full Dose DOAC'...\n",
       "2        AVAIL     {nan: '. = Missing', 0.0: '0 = Not Available',...\n",
       "3      CAUSDTHDOC  {nan: '. = Missing', 1.0: '1 = Yes', 2.0: '2 =...\n",
       "4    COVCLINTRIAL  {nan: '. = Missing', 1.0: '1 = Yes', 2.0: '2 =...\n",
       "..            ...                                                ...\n",
       "104     PATMANICU  {nan: '. = Missing', 1.0: '1 = Yes', 2.0: '2 =...\n",
       "105     RITOLOPVR  {nan: '. = Missing', 1.0: '1 = Yes', 2.0: '2 =...\n",
       "106    SLTROPUADM  {nan: '. = Missing', 1.0: '1 = ng/mL', 2.0: '2...\n",
       "107      SUBQUFH   {nan: '. = Missing', 1.0: '1 = Yes', 2.0: '2 =...\n",
       "108      WBCUADM   {nan: '. = Missing', 1.0: '1 = K/uL', 2.0: '2 ...\n",
       "\n",
       "[109 rows x 2 columns]"
      ]
     },
     "execution_count": 6,
     "metadata": {},
     "output_type": "execute_result"
    }
   ],
   "source": [
    "# To display the coding values with the format labels. \n",
    "df_values = pd.DataFrame(list(meta.value_labels.items()))\n",
    "df_values = df_values.rename(columns={0:'Format',1:'Values'})\n",
    "df_values"
   ]
  },
  {
   "cell_type": "code",
   "execution_count": 7,
   "metadata": {
    "jupyter": {
     "outputs_hidden": true
    }
   },
   "outputs": [
    {
     "data": {
      "text/html": [
       "<div>\n",
       "<style scoped>\n",
       "    .dataframe tbody tr th:only-of-type {\n",
       "        vertical-align: middle;\n",
       "    }\n",
       "\n",
       "    .dataframe tbody tr th {\n",
       "        vertical-align: top;\n",
       "    }\n",
       "\n",
       "    .dataframe thead th {\n",
       "        text-align: right;\n",
       "    }\n",
       "</style>\n",
       "<table border=\"1\" class=\"dataframe\">\n",
       "  <thead>\n",
       "    <tr style=\"text-align: right;\">\n",
       "      <th></th>\n",
       "      <th>Data Type</th>\n",
       "    </tr>\n",
       "  </thead>\n",
       "  <tbody>\n",
       "    <tr>\n",
       "      <th>RCRDNUM</th>\n",
       "      <td>object</td>\n",
       "    </tr>\n",
       "    <tr>\n",
       "      <th>CASE_ID</th>\n",
       "      <td>float64</td>\n",
       "    </tr>\n",
       "    <tr>\n",
       "      <th>ANTCOGDVTPRO</th>\n",
       "      <td>category</td>\n",
       "    </tr>\n",
       "    <tr>\n",
       "      <th>ANTICOAGDVT</th>\n",
       "      <td>category</td>\n",
       "    </tr>\n",
       "    <tr>\n",
       "      <th>ANTICOAGDVTDT_PRC</th>\n",
       "      <td>category</td>\n",
       "    </tr>\n",
       "    <tr>\n",
       "      <th>...</th>\n",
       "      <td>...</td>\n",
       "    </tr>\n",
       "    <tr>\n",
       "      <th>TMPPERPACEDT</th>\n",
       "      <td>float64</td>\n",
       "    </tr>\n",
       "    <tr>\n",
       "      <th>TOCZMBDT</th>\n",
       "      <td>float64</td>\n",
       "    </tr>\n",
       "    <tr>\n",
       "      <th>VVECMOSTP</th>\n",
       "      <td>float64</td>\n",
       "    </tr>\n",
       "    <tr>\n",
       "      <th>VVECMOSTRT</th>\n",
       "      <td>float64</td>\n",
       "    </tr>\n",
       "    <tr>\n",
       "      <th>WARFARINDT</th>\n",
       "      <td>float64</td>\n",
       "    </tr>\n",
       "  </tbody>\n",
       "</table>\n",
       "<p>1428 rows × 1 columns</p>\n",
       "</div>"
      ],
      "text/plain": [
       "                  Data Type\n",
       "RCRDNUM              object\n",
       "CASE_ID             float64\n",
       "ANTCOGDVTPRO       category\n",
       "ANTICOAGDVT        category\n",
       "ANTICOAGDVTDT_PRC  category\n",
       "...                     ...\n",
       "TMPPERPACEDT        float64\n",
       "TOCZMBDT            float64\n",
       "VVECMOSTP           float64\n",
       "VVECMOSTRT          float64\n",
       "WARFARINDT          float64\n",
       "\n",
       "[1428 rows x 1 columns]"
      ]
     },
     "execution_count": 7,
     "metadata": {},
     "output_type": "execute_result"
    }
   ],
   "source": [
    "df_data_types=pd.DataFrame(df.dtypes, columns={'Data Type'})\n",
    "df_data_types"
   ]
  },
  {
   "cell_type": "markdown",
   "metadata": {},
   "source": [
    "# <span style='width:50%; color:#C10E21; border-bottom:0.25rem  solid #f3f3f3;'>Tables and Summary Statistics</span>"
   ]
  },
  {
   "cell_type": "markdown",
   "metadata": {},
   "source": [
    "### Tables and Frequencies "
   ]
  },
  {
   "cell_type": "markdown",
   "metadata": {},
   "source": [
    "Getting the counts of one or multiple variables is easy in Python with the <code>value_counts</code> function.  The <code>value_counts()</code> function will create a set of counts. This function can be used to get counts of categorical variables in the data, as shown in the code below, which makes a table of the number of patients by <code>METHDIAG</code> variable. You could set the <code>dropna</code> value as needed if you want to display the counts for the null values or if you don't want to show for the null values by setting it to either True or False."
   ]
  },
  {
   "cell_type": "code",
   "execution_count": 8,
   "metadata": {},
   "outputs": [
    {
     "data": {
      "text/html": [
       "<div>\n",
       "<style scoped>\n",
       "    .dataframe tbody tr th:only-of-type {\n",
       "        vertical-align: middle;\n",
       "    }\n",
       "\n",
       "    .dataframe tbody tr th {\n",
       "        vertical-align: top;\n",
       "    }\n",
       "\n",
       "    .dataframe thead th {\n",
       "        text-align: right;\n",
       "    }\n",
       "</style>\n",
       "<table border=\"1\" class=\"dataframe\">\n",
       "  <thead>\n",
       "    <tr style=\"text-align: right;\">\n",
       "      <th></th>\n",
       "      <th>METHDIAG</th>\n",
       "    </tr>\n",
       "  </thead>\n",
       "  <tbody>\n",
       "    <tr>\n",
       "      <th>1 = RT-PCR Test</th>\n",
       "      <td>4825</td>\n",
       "    </tr>\n",
       "    <tr>\n",
       "      <th>NaN</th>\n",
       "      <td>1622</td>\n",
       "    </tr>\n",
       "    <tr>\n",
       "      <th>2 = Clinical Diagnosis using Hospital Specific Criteria</th>\n",
       "      <td>489</td>\n",
       "    </tr>\n",
       "    <tr>\n",
       "      <th>3 = IgM antibody test</th>\n",
       "      <td>1</td>\n",
       "    </tr>\n",
       "  </tbody>\n",
       "</table>\n",
       "</div>"
      ],
      "text/plain": [
       "                                                    METHDIAG\n",
       "1 = RT-PCR Test                                         4825\n",
       "NaN                                                     1622\n",
       "2 = Clinical Diagnosis using Hospital Specific ...       489\n",
       "3 = IgM antibody test                                      1"
      ]
     },
     "execution_count": 8,
     "metadata": {},
     "output_type": "execute_result"
    }
   ],
   "source": [
    "#create table\n",
    "df_count=pd.DataFrame(df.METHDIAG.value_counts(dropna = False))\n",
    "df_count"
   ]
  },
  {
   "cell_type": "markdown",
   "metadata": {},
   "source": [
    "### Summary Statistics  \n",
    "The <code>describe()</code> command can be used to view distribution statistics for all variables <code>df.describe()</code> in the data or for a single variable. The summary command will display frequencies, mean, median, min, max for all the variables except for the category variables. \n",
    "    \n",
    "***NOTE:*** <code>describe()</code> can be used on the entire dataset. Given the large size of the data, the command is called on a single variable below to limit the output displayed* "
   ]
  },
  {
   "cell_type": "code",
   "execution_count": 9,
   "metadata": {
    "jupyter": {
     "outputs_hidden": true
    }
   },
   "outputs": [
    {
     "data": {
      "text/plain": [
       "count    6892.000000\n",
       "mean       61.194283\n",
       "std        17.890810\n",
       "min        18.000000\n",
       "25%        49.000000\n",
       "50%        62.000000\n",
       "75%        75.000000\n",
       "max        90.000000\n",
       "Name: AGEi, dtype: float64"
      ]
     },
     "execution_count": 9,
     "metadata": {},
     "output_type": "execute_result"
    }
   ],
   "source": [
    "df.AGEi.describe()"
   ]
  },
  {
   "cell_type": "markdown",
   "metadata": {},
   "source": [
    "# <span style='width:50%; color:#C10E21; border-bottom:0.25rem  solid #f3f3f3;'>Need Help?</span>\n",
    "### Internet access in a PMP workspace\n",
    "   * Google and other useful programming sites including git and stack overflow are available in the workspace. Simply add a tab on by clicking the + on the blue, browser bar above.\n",
    "\n",
    "\n",
    "###  Billing, Data, or Analysis Questions?\n",
    "   * If you have questions about your account, billing, the GWTG data, or would like to request analysis help from the AHA Data Science Team, please files a ticket with the data team by selecting [Contact Us](https://precision.heart.org/contact) on the PMP portal under the About tab.\n",
    "    \n",
    "    \n",
    "### Technical Questions or Issues?\n",
    "   * If you are having technical trouble installing software or packages, using the workspace or software in the workspace,  please file a ticket with support by selecting [technical support](https://precision.heart.org/technical-support) on the PMP portal under the About tab.  "
   ]
  },
  {
   "cell_type": "markdown",
   "metadata": {},
   "source": [
    "# <span style='width:50%; color:#C10E21; border-bottom:0.25rem  solid #f3f3f3;'>References</span>\n",
    "###  Helpful Python Packages\n",
    "   * Loading SAS files in Python\n",
    "        * [pandas-loading files](https://pandas.pydata.org/docs/user_guide/io.html)\n",
    "   * Data Manipulation\n",
    "        * [pandas](https://pandas.pydata.org/)\n",
    "   * Tables and display\n",
    "        * [pandas-styling](https://pandas.pydata.org/docs/user_guide/style.html)\n",
    "   * Plotting and Graphs\n",
    "        * [plotly](https://plotly.com/python/)\n",
    "        * [matplotlib](https://matplotlib.org/)      \n",
    "   \n",
    "### Python Tutorials \n",
    "   * [Data Science with Python](https://realpython.com/tutorials/data-science/)\n",
    "   * [Python documentation](https://docs.python.org/3/tutorial/index.html)\n",
    "   \n",
    "### Academic Publications and Guidelines\n",
    "   * [Descriptives Explanation](https://www.socialresearchmethods.net/kb/statdesc.php)\n",
    "   * [Reporting Descriptives in Clinical Studies](https://trialsjournal.biomedcentral.com/articles/10.1186/s13063-016-1189-4)"
   ]
  },
  {
   "cell_type": "markdown",
   "metadata": {},
   "source": [
    "<div style='padding-top:5px; border-top:0.25rem solid #f3f3f3;  font-size:1.5rem; color:#6D6E71; text-align:center;  padding-left:5%; padding-right:15%'>Use of the AHA Get With The Guidelines  <span>&#174;</span> Datasets in the Precision Medicine Platform is a strategic initiative of the American Heart Association's Institute for Precision Cardiovascular Medicine. The Platform is supported by Hitachi Vantara and powered by Amazon Web Services.\n",
    "        <img src=https://www.hitachivantara.com/content/dam/public/en_us/images/sharing-graphic.jpg alt='Drawing' style='height:75px; margin-top:-5px;  float:center'>\n",
    "         <img src='https://a0.awsstatic.com/libra-css/images/logos/aws_logo_smile_1200x630.png'  alt='Drawing' style='height:75px; margin-top:-10px; float:center;'>\n",
    "</div>"
   ]
  }
 ],
 "metadata": {
  "celltoolbar": "Raw Cell Format",
  "kernelspec": {
   "display_name": "Python 3",
   "language": "python",
   "name": "python3"
  },
  "language_info": {
   "codemirror_mode": {
    "name": "ipython",
    "version": 3
   },
   "file_extension": ".py",
   "mimetype": "text/x-python",
   "name": "python",
   "nbconvert_exporter": "python",
   "pygments_lexer": "ipython3",
   "version": "3.7.6"
  },
  "toc": {
   "base_numbering": 1,
   "nav_menu": {
    "height": "501px",
    "width": "668px"
   },
   "number_sections": false,
   "sideBar": true,
   "skip_h1_title": false,
   "title_cell": "Table of Contents",
   "title_sidebar": "Contents",
   "toc_cell": true,
   "toc_position": {
    "height": "467px",
    "left": "0px",
    "right": "1095px",
    "top": "107px",
    "width": "260px"
   },
   "toc_section_display": false,
   "toc_window_display": true
  }
 },
 "nbformat": 4,
 "nbformat_minor": 4
}
