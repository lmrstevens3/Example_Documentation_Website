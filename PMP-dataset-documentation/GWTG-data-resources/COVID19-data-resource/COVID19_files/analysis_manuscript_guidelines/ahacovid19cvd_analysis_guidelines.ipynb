{
 "cells": [
  {
   "cell_type": "markdown",
   "metadata": {},
   "source": [
    "\n",
    "<div style='padding:5px; border-bottom:0.25rem solid #f3f3f3; height:100px;'>\n",
    "<div style='height: 150px; overflow:hidden;'>\n",
    "<img src='https://www.heart.org/-/media/images/news/thrive-global/0706nancycovid19registry-logo.png?h=127&w=583&la=en&hash=1C79081396838B871562F8EEA63148D86A923E58' alt='Drawing' style='height:100px; float:left; margin: -10px -75px;'>\n",
    "<div><img src='https://precision.heart.org/sso/images/precision-medicine-platform-logo.png' alt='Drawing' style='width:140px; float:right;'>\n",
    "</div>"
   ]
  },
  {
   "cell_type": "markdown",
   "metadata": {},
   "source": [
    "# <span style='width:50%; color:#C10E21; border-bottom:0.25rem  solid #f3f3f3;'>About the Registry</span>\n",
    "\n",
    "<p>The COVID19 CVD Registry is a voluntary quality improvement registry, powered by AHA's Get With the Guidelines<sup>&#174;</sup>.\n",
    "</p>\n",
    "<p>This data was collected from <span style=\"background-color: yellow\">x hospitals and comprises x patient records </span>Upon collection, hospitals are provided detailed data \n",
    "<a href=\"files/../documentation/ahacovid19cvd_registry_collection_instructions.pdf\" target=\"_blank\">abstraction instructions</a>, and in-form and post collection data quality checks are performed. \n",
    "<p>The registry entry criteria instruct hospitals to enter all patients >=18 years old who are hospitalized with an active COVID-19 infection.Hospitals are directed to start data entry with their first hospitalized patient with a COVID-19 diagnosis and continue with abstraction in consecutive discharge order until current.\n",
    "</p>\n",
    "\n",
    "### Registry Entry and Exclusion\n",
    "##### Entry Criteria\n",
    "* All patients hospitalized at your facility with a confirmed diagnosis of COVID-19 by an RT-PCR test either prior to or during the hospitalization, a positive IgM antibody test, or a clinical diagnosis using hospital specific criteria\n",
    "* All patients >=18 years old who are hospitalized with an active COVID-19 infection (e.g. ICD-10-CM code U07.1 among discharge diagnosis).\n",
    "* The infection should be confirmed with an RT-PCR test either prior to or during the hospitalization, a positive IgM antibody test, or a clinical diagnosis using hospital specific criteria. Active infection encompasses:\n",
    "* Patients who are diagnosed prior to hospitalization, but still symptomatic during the hospitalization \n",
    "* Patients with a positive test or diagnosis during hospital admission\n",
    "* Patients who are symptomatic during the hospitalization and have a confirmed test available only after hospital discharge\n",
    "* Patients with a diagnosis, with or without COVID-related symptoms  \n",
    "\n",
    "##### Exclusion Criteria:\n",
    "* Patients < 18 years of age.\n",
    "* Patients who do not have a COVID-19 diagnosis\n",
    "* Patients with prior COVID-19 diagnosis, but without active infection as determined by COVID-19 related symptoms. This may include pts with positive IgG antibody tests without positive IgM antibody test. \n"
   ]
  },
  {
   "cell_type": "markdown",
   "metadata": {},
   "source": [
    "# <span style='width:50%; color:#C10E21; border-bottom:0.25rem  solid #f3f3f3;'>Data Completion and Quality</span>\n",
    "\n",
    "## Completion \n",
    "* Most hospitals enter data retrospectively and are at varying levels of record completion\n",
    "* While we encouraged hospitals to enter all hospitalized COVID-19 patients from the beginning of the pandemic, some did not have the necessary resources so began entering hospitalized patients seen from the time they joined the registry.\n",
    "* Some hospitals are entering basic demographic information first and completing detailed clinical information second.  \n",
    "\n",
    "## In-form Quality Checks\n",
    "There are in-form data quality checks to ensure accurate data entry, flagging and preventing records from saving when a value is not within expected range. For example:\n",
    "* Records can not be saved if a categorical variable (ex. Race) has a value entered that is not in the pre-defined variable configurations. \n",
    "* Records can not be saved if a continuous variable (ex. white blood cell count) has a value entered that is outside the pre-defined range for that variable.\n",
    "* Records can not be saved if discharge date or dates recorded during hospital stay are after the Admission Date.   \n",
    "\n",
    "## Post Collection Quality Checks and Exclusions\n",
    "In an effort to provide as much data to investigators as possible, we did **NOT** exclude records that are incomplete, instead opting to include records that have critical dates, demographic and comorbidity data available. Additional, analysis specific, quality checks are should be assessed and completed upon performing analyses. As a **minimum data quality check, the following records have been Excluded from the analytic data set:**\n",
    "* Negative Dates (ex. COVID diagnosis date prior to Dec 2019 or admission date recorded registry start)\n",
    "* Gender (GENDERi or SEX) = null/missing\n",
    "* Admission date = null/missing\n",
    "* Discharge date = null/missing\n",
    "* Discharge disposition = null/missing\n",
    "\n",
    "**Additional Exclusions to Consider:**\n",
    "As noted above, minimal records were excluded to provide as much data to investigators as possible. Analyses that consider medical history or Race **SHOULD CONSIDER** the following exclusions: \n",
    "* Race (RACEi or RACE06) = null/missing\n",
    "* Medical History (MEDHISTO_) = null/missing\n",
    "\n",
    "## Missingness and Imputation\n",
    "As a general rule, outcomes should **NOT** be imputed. Primary and Exposure/outcomes should be looked at very carefully when deciding to impute. **PLEASE consult your assigned mentor** regarding your strategy for imputation to ensure alignment with other analyses."
   ]
  },
  {
   "cell_type": "markdown",
   "metadata": {},
   "source": [
    "# <span style='width:50%; color:#C10E21; border-bottom:0.25rem  solid #f3f3f3;'>Derived Variables</span>\n",
    "\n",
    "The *source* column in the \n",
    "<a href=\"files/../documentation/aug20ahacovid19cvd_data_dictionary.pdf\" target=\"_blank\">data dictionary</a> identifies which variables are \"CRF_raw\", \"derived\", \"combined\", or \"merged\".\n",
    "* **CRF_raw:** variables obtained directly from the <a href=\"files/../documentation/ahacovid19cvd_coded_collection_form.pdf\" target=\"_blank\">registry collection</a> data with the quality checks above performed. \n",
    "* **Derived:** variables that have been calculated or created by combining variables from the registry. \n",
    "* **Combined:** variables that have been added to the registry separately (ex. serial labs collected over time) and combine later.\n",
    "* **Merged:** variables that have been added from additional, outside, datasets or registries (ex. American Hospital Association database)"
   ]
  },
  {
   "cell_type": "markdown",
   "metadata": {},
   "source": [
    "## Variables Recommended for Use in Analyses\n",
    "The following derived variables have been calculated or derived to ensure consistent units. **It is recommend these variables are used in analyses**\n",
    "* **AGEi**: Demographics: Age (18-110) [D]\n",
    "* **HEIGHTi**: Hospitalization: Vitals (Admission): Height (127-227 cm) [D]\n",
    "* **WEIGHTADMi**: Hospitalization: Vitals (Admission): Weight (Admission) (30-227 kg) [D]\n",
    "* **BMIadmit**: Hospitalization: Vitals (Admission): BMI (13-100) [D]\n",
    "\n",
    "The following demographic variables are provided in the data set as a consistent way to report demographics by all investigators, and **should be used in analyses over other demographic variables present.** Logic for the variables derived below is also provided.\n",
    "##### Gender (GENDERi)\n",
    " * The ***GENDERi*** variable is derived from the SEX variable, where unknown values (coded as 3) are mapped to missing (coded as NULL/NA/.), males are recoded as 0 (previously 1) and females are recoded as 1 (previously 2). The logic for this derivation is provided <a href=\"files/Gender_mapping_GENDERi.pdf\" target=\"_blank\">here.</a>\n",
    "\n",
    "##### Race (RACEi)\n",
    " * A derived “Ethnicity/Race” variable is provided in the data set as a consistent way to report race/ethnicity by all investigators. Data collection in the registry allows multi-select for race and ethnicity so a hierarchy was defined by AHA to assign a race and or Hispanic ethnicity based selections for each case. \n",
    " \n",
    " * Cases are grouped into the following “Categories” when the corresponding value is present for that variable in this order of hierarchy. **All Races are Non-Hispanic**, even if the label does not indicate as such. The logic for this derivation is provided <a href=\"files/Race_and_Ethnicity_Logic_RACEi.pdf\" target=\"_blank\">here.</a>\n",
    "    * Hispanic\n",
    "    * Non-Hispanic Black\n",
    "    * Native American\n",
    "    * Asian\n",
    "    * Pacific Islander\n",
    "    * Non-Hispanic White\n",
    "    * UTD\n",
    "    * Missing all information\n",
    "      \n",
    "## Date Variables (\"Studyday\" variables)\n",
    "Derived date variables tend to have the \"Studyday\" tag in the description and end in DT (ex. ANCHORDT). These variables are deidentified date variables from the raw regsitry data, where the anchor date, or baseline (day 0) is hospital admission date. All derived dates are in the context of the Admission date (0) + day. "
   ]
  },
  {
   "cell_type": "markdown",
   "metadata": {},
   "source": [
    "# <span style='width:50%; color:#C10E21; border-bottom:0.25rem  solid #f3f3f3;'>Defining Outcomes and Phenotypes</span>\n",
    "\n",
    "## Death\n",
    "To define a mortality variable, or death variable, the logic below should be used with the discharge date (DISDATE present) and discharge disposition (DSCHSTAT == expired) variables. \n",
    "* DISDATE NOT Missing\n",
    "* DSCHSTAT == 6"
   ]
  },
  {
   "cell_type": "markdown",
   "metadata": {},
   "source": [
    "# <span style='width:50%; color:#C10E21; border-bottom:0.25rem  solid #f3f3f3;'>Need Help?</span>\n",
    "\n",
    "If you have questions about using the AHA COVID-19 Registry data, or would like to request analysis help from the AHA Data Science Team, please file a ticket with the data team by selecting [Contact Us](https://precision.heart.org/contact) on the Precision Medicine Platform under the About tab.  "
   ]
  },
  {
   "cell_type": "markdown",
   "metadata": {},
   "source": [
    "<div style='padding-top:5px; border-top:0.25rem solid #f3f3f3;  font-size:1.5rem; color:#6D6E71; text-align:center;  padding-left:5%; padding-right:15%'>The AHA COVID-19 CVD Registry is Powered by Get With The Guidelines <sup>&#174;</sup>. Use of the AHA Get With The Guidelines<sup>&#174;</sup> Datasets in the Precision Medicine Platform is a strategic initiative of the American Heart Association's Institute for Precision Cardiovascular Medicine. The Platform is supported by Hitachi Vantara and powered by Amazon Web Services.\n",
    "        <img src=https://www.hitachivantara.com/content/dam/public/en_us/images/sharing-graphic.jpg alt='Drawing' style='height:75px; margin-top:-5px;  float:center'>\n",
    "         <img src='https://a0.awsstatic.com/libra-css/images/logos/aws_logo_smile_1200x630.png'  alt='Drawing' style='height:75px; margin-top:-10px; float:center;'>\n",
    "</div>"
   ]
  }
 ],
 "metadata": {
  "kernelspec": {
   "display_name": "Python 2",
   "language": "python",
   "name": "python2"
  },
  "language_info": {
   "codemirror_mode": {
    "name": "ipython",
    "version": 2
   },
   "file_extension": ".py",
   "mimetype": "text/x-python",
   "name": "python",
   "nbconvert_exporter": "python",
   "pygments_lexer": "ipython2",
   "version": "2.7.13"
  },
  "toc": {
   "base_numbering": 1,
   "nav_menu": {},
   "number_sections": false,
   "sideBar": true,
   "skip_h1_title": false,
   "title_cell": "Table of Contents",
   "title_sidebar": "Contents",
   "toc_cell": false,
   "toc_position": {},
   "toc_section_display": true,
   "toc_window_display": true
  }
 },
 "nbformat": 4,
 "nbformat_minor": 2
}
