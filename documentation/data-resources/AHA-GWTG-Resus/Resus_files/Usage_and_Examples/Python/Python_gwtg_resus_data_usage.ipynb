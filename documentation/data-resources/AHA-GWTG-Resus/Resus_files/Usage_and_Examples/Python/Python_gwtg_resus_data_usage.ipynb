{
 "cells": [
  {
   "cell_type": "markdown",
   "metadata": {
    "hide_input": false
   },
   "source": [
    "<div style='padding:5px; border-bottom:0.25rem solid #f3f3f3; height:100px;'><img src='https://precision.heart.org/assets/images/aha-pmp-logo.png' alt='Drawing' style='width:135px; float:left;'><img src='https://precision.heart.org/sso/images/precision-medicine-platform-logo.png' alt='Drawing' style='width:140px; float:right;'></div>"
   ]
  },
  {
   "cell_type": "markdown",
   "metadata": {},
   "source": [
    "<div style=\"font-size:32px; padding:5px;\"><b>Loading and Summarizing GWTG Data in Python</b></div>"
   ]
  },
  {
   "cell_type": "markdown",
   "metadata": {},
   "source": [
    "<div style=\"font-size:22px; padding-bottom:10px; padding-top:20px; color:#6D6E71\"><b>Laura Stevens, Remy Poudel, Raakhee Iyer</b></div>\n",
    "<div style=\"font-size:18px; font-style:italic; color:#6D6E71\"><b>October 2020</b></div>\n"
   ]
  },
  {
   "cell_type": "markdown",
   "metadata": {
    "toc": true
   },
   "source": [
    "<h1>Table of Contents<span class=\"tocSkip\"></span></h1>\n",
    "<div class=\"toc\"><ul class=\"toc-item\"><li><span><a href=\"#Introduction-and-Software\" data-toc-modified-id=\"Introduction-and-Software-0\"><span style=\"width: 50% ; color: #c10e21 ; border-bottom: 0.25rem solid #f3f3f3\">Introduction and Software</span></a></span><ul class=\"toc-item\"><li><ul class=\"toc-item\"><li><span><a href=\"#Software\" data-toc-modified-id=\"Software-0.0.1\">Software</a></span></li><li><span><a href=\"#Package-Installation\" data-toc-modified-id=\"Package-Installation-0.0.2\">Package Installation</a></span></li><li><span><a href=\"#Importing-Packages\" data-toc-modified-id=\"Importing-Packages-0.0.3\">Importing Packages</a></span></li></ul></li></ul></li><li><span><a href=\"#Load-and-View-Data\" data-toc-modified-id=\"Load-and-View-Data-1\"><span style=\"width: 50% ; color: #c10e21 ; border-bottom: 0.25rem solid #f3f3f3\">Load and View Data</span></a></span><ul class=\"toc-item\"><li><ul class=\"toc-item\"><li><span><a href=\"#Registry-File-Organization\" data-toc-modified-id=\"Registry-File-Organization-1.0.1\">Registry File Organization</a></span></li><li><span><a href=\"#File-Paths\" data-toc-modified-id=\"File-Paths-1.0.2\">File Paths</a></span></li><li><span><a href=\"#Loading-SAS-files-in-Python\" data-toc-modified-id=\"Loading-SAS-files-in-Python-1.0.3\">Loading SAS files in Python</a></span></li><li><span><a href=\"#Viewing-the-data\" data-toc-modified-id=\"Viewing-the-data-1.0.4\">Viewing the data</a></span></li></ul></li></ul></li><li><span><a href=\"#Tables-and-Summary-Statistics\" data-toc-modified-id=\"Tables-and-Summary-Statistics-2\"><span style=\"width: 50% ; color: #c10e21 ; border-bottom: 0.25rem solid #f3f3f3\">Tables and Summary Statistics</span></a></span><ul class=\"toc-item\"><li><ul class=\"toc-item\"><li><span><a href=\"#Tables-and-Frequencies\" data-toc-modified-id=\"Tables-and-Frequencies-2.0.1\">Tables and Frequencies</a></span></li><li><span><a href=\"#Summary-Statistics\" data-toc-modified-id=\"Summary-Statistics-2.0.2\">Summary Statistics</a></span></li></ul></li></ul></li><li><span><a href=\"#Need-Help?\" data-toc-modified-id=\"Need-Help?-3\"><span style=\"width: 50% ; color: #c10e21 ; border-bottom: 0.25rem solid #f3f3f3\">Need Help?</span></a></span><ul class=\"toc-item\"><li><ul class=\"toc-item\"><li><span><a href=\"#Internet-access-in-a-PMP-workspace\" data-toc-modified-id=\"Internet-access-in-a-PMP-workspace-3.0.1\">Internet access in a PMP workspace</a></span></li><li><span><a href=\"#Billing,-Data,-or-Analysis-Questions?\" data-toc-modified-id=\"Billing,-Data,-or-Analysis-Questions?-3.0.2\">Billing, Data, or Analysis Questions?</a></span></li><li><span><a href=\"#Technical-Questions-or-Issues?\" data-toc-modified-id=\"Technical-Questions-or-Issues?-3.0.3\">Technical Questions or Issues?</a></span></li></ul></li></ul></li><li><span><a href=\"#References\" data-toc-modified-id=\"References-4\"><span style=\"width: 50% ; color: #c10e21 ; border-bottom: 0.25rem solid #f3f3f3\">References</span></a></span><ul class=\"toc-item\"><li><ul class=\"toc-item\"><li><span><a href=\"#Helpful-Python-Packages\" data-toc-modified-id=\"Helpful-Python-Packages-4.0.1\">Helpful Python Packages</a></span></li><li><span><a href=\"#Python-Tutorials\" data-toc-modified-id=\"Python-Tutorials-4.0.2\">Python Tutorials</a></span></li><li><span><a href=\"#Academic-Publications-and-Guidelines\" data-toc-modified-id=\"Academic-Publications-and-Guidelines-4.0.3\">Academic Publications and Guidelines</a></span></li></ul></li></ul></li></ul></div>"
   ]
  },
  {
   "cell_type": "markdown",
   "metadata": {},
   "source": [
    "# <span style='width:50%; color:#C10E21; border-bottom:0.25rem  solid #f3f3f3;'>Introduction and Software</span>"
   ]
  },
  {
   "cell_type": "markdown",
   "metadata": {},
   "source": [
    "This notebook walks through loading, viewing and summarizing a GWTG dataset comprised of a sas7bdat data file and a sas7bcat formats file. The Tables and Summary statistics section provides a brief introduction for how to calculate frequencies and distribution statistics for categorical and continuous variables, respectively. "
   ]
  },
  {
   "cell_type": "markdown",
   "metadata": {},
   "source": [
    "### Software\n",
    "\n",
    "This tutorial is completed in Python. All imported packages used in this tutorial are listed and installed in the sections below. Packages used in this tutorial as well as additional packages that are useful for tabulating and summarizing data are listed in the [References Section](#References).\n",
    "\n",
    "### Package Installation \n",
    "\n",
    "The following packages are used for this tutorial. The pandas package is installed as a default in the workspace. A reference for installing pandas can be accessed [here](https://pandas.pydata.org/pandas-docs/stable/getting_started/install.html#installing-from-pypi).\n",
    "Packages only need to be installed once. After initial installation, the cell below can be skipped or commented out (using \"#\")."
   ]
  },
  {
   "cell_type": "code",
   "execution_count": 1,
   "metadata": {
    "scrolled": true
   },
   "outputs": [
    {
     "name": "stdout",
     "output_type": "stream",
     "text": [
      "Requirement already satisfied: pyreadstat in /usr/local/lib64/python3.7/site-packages (1.0.2)\n",
      "Requirement already satisfied: pandas>0.24.0 in /usr/local/lib64/python3.7/site-packages (from pyreadstat) (0.25.3)\n",
      "Requirement already satisfied: pytz>=2017.2 in /usr/local/lib/python3.7/site-packages (from pandas>0.24.0->pyreadstat) (2019.3)\n",
      "Requirement already satisfied: numpy>=1.13.3 in /usr/local/lib64/python3.7/site-packages (from pandas>0.24.0->pyreadstat) (1.16.4)\n",
      "Requirement already satisfied: python-dateutil>=2.6.1 in /usr/local/lib/python3.7/site-packages (from pandas>0.24.0->pyreadstat) (2.8.2)\n",
      "Requirement already satisfied: six>=1.5 in /usr/local/lib/python3.7/site-packages (from python-dateutil>=2.6.1->pandas>0.24.0->pyreadstat) (1.16.0)\n"
     ]
    },
    {
     "name": "stderr",
     "output_type": "stream",
     "text": [
      "WARNING: You are using pip version 20.1.1; however, version 21.2.1 is available.\n",
      "You should consider upgrading via the '/bin/python3 -m pip install --upgrade pip' command.\n"
     ]
    }
   ],
   "source": [
    "%%bash\n",
    "sudo python3 -m pip install pyreadstat"
   ]
  },
  {
   "cell_type": "markdown",
   "metadata": {},
   "source": [
    "### Importing Packages\n",
    "\n",
    "Once all packages have been installed, they can be used through the import command. The code below imports all packages for the tutorial."
   ]
  },
  {
   "cell_type": "code",
   "execution_count": 2,
   "metadata": {},
   "outputs": [],
   "source": [
    "import pandas as pd\n",
    "import pyreadstat"
   ]
  },
  {
   "cell_type": "markdown",
   "metadata": {},
   "source": [
    "# <span style='width:50%; color:#C10E21; border-bottom:0.25rem  solid #f3f3f3;'>Load and View Data</span>"
   ]
  },
  {
   "cell_type": "markdown",
   "metadata": {},
   "source": [
    "### Registry File Organization\n",
    "The root directory path in the workspace is <code>/mnt/workspace</code>. This is the directory for the files listed under the Jupyter Home tab as well as the default working directory for Jupyter, JupyterLab, R Studio, and SAS Studio. \n",
    "\n",
    "The data, documentation, and usage files for each release of the registry are contained in separate folders within the <code>/mnt/workspace/GWTG/</code> directory and structured as follows: \n",
    "   * Each AHA GWTG <b>registry</b> has it's own folder with the GWTG directory (e.g.<code>Resuscitation</code>)\n",
    "   * The data and accompanying documentation are stored in a directory named with the <b>version number followed by year-month of the release for that version</b> (e.g. v1_2020-08). \n",
    "   * Each version for a registry release contains the following: \n",
    "       * A <code><b>data</b></code> folder with sas data and format files\n",
    "       * A <code><b>documentation</b></code> folder with necessary documentation including the data dictionary and coding manual.\n",
    "   \n",
    "For a more in-depth introduction to the registry data files available in a PMP workspace, **check the [GWTG Resuscitation Registry Researcher Resource](https://precision.heart.org/documentation/AHA-GWTG-Resus/index.html)**. **This website is available through the \"PMP Documentation\" bookmark in the favorites bar above under the data resources menu.**  "
   ]
  },
  {
   "cell_type": "markdown",
   "metadata": {},
   "source": [
    "### File Paths \n",
    "<b><span style=\"background-color:pink;\">This notebook can be used to load any version of the registry data by changing the file paths created in the cell below.</span></b> The code in the next cell creates a file path based on the version of the registry for the dataset being loaded. \n",
    "\n",
    "<span style=\"color:#C10E21;\"><b><i>NOTE:</b></i></span> ***If needed, change the version_release_date, dataset_folder and data_file names below to update the data loaded***"
   ]
  },
  {
   "cell_type": "code",
   "execution_count": 5,
   "metadata": {},
   "outputs": [],
   "source": [
    "registry = \"Resuscitation/\"\n",
    "version_release_date = \"v3_2021-06/\"\n",
    "data_directory =  \"/mnt/workspace/GWTG/\" + registry + version_release_date + \"data/\"\n",
    "dataset_folder = \"CPA Adult/\"\n",
    "data_file = data_directory + dataset_folder + 'v3_2021_06_gwtg_resus_cpa_adult.sas7bdat'\n",
    "formats_file = data_directory + dataset_folder + 'formats/' + 'v3_2021_06_gwtg_resus_formats.sas7bdat'"
   ]
  },
  {
   "cell_type": "markdown",
   "metadata": {},
   "source": [
    "***This notebook is currently set to load the following dataset.*** Change directory names set to the registry, release date, dataset_folder variables above to load different versions of the data."
   ]
  },
  {
   "cell_type": "code",
   "execution_count": 6,
   "metadata": {},
   "outputs": [
    {
     "name": "stdout",
     "output_type": "stream",
     "text": [
      "/mnt/workspace/GWTG/Resuscitation/v3_2021-06/distribution/data/CPA Adult/v3_2021_06_gwtg_resus_cpa_adult.sas7bdat\n",
      "/mnt/workspace/GWTG/Resuscitation/v3_2021-06/distribution/data/CPA Adult/formats/v3_2021_06_gwtg_resus_formats.sas7bdat\n"
     ]
    }
   ],
   "source": [
    "print(data_file)\n",
    "print(formats_file)"
   ]
  },
  {
   "cell_type": "markdown",
   "metadata": {},
   "source": [
    "### Loading SAS files in Python\n",
    "The <code>pyreadstat_sas7bdat()</code> command loads a list containing the data as a data frame and stores the metadata/documentation in a metadata format object which is a structure similar to a json object or python dictionary. **The code below will load both the data as well as the formats/coding for the variables in the data.** \n",
    "***NOTE:*** The <code>pd.read_sas()</code> command from pandas can also be used to load sas data files (sas7b<u><b>d</b></u>at), but will not store any metadata/documentation.*\n",
    "\n",
    "<span style=\"background-color:pink;\">The code below stores the data in <b>df</b> object, the definitions and formats for each variable in the data are stored in <b>meta</b>. The <b>formats</b> object stores the coding information for each format available in the data.</span> The first 5 rows of both objects are shown below.\n",
    "\n",
    "##### Mapping formats and coding\n",
    "To map the coding labels for a categorical variable in the data, use <code>meta.original_variable_types[&lt;column name&gt;]</code> to get the coding format for a variable look the format up using the FMTTNAME column in formats. An example is provided in the [Tables and Summary Statistics Section](#Tables-and-Frequencies)"
   ]
  },
  {
   "cell_type": "code",
   "execution_count": 7,
   "metadata": {},
   "outputs": [],
   "source": [
    "df, meta = pyreadstat.read_sas7bdat(data_file)\n",
    "formats,_ = pyreadstat.read_sas7bdat(formats_file)"
   ]
  },
  {
   "cell_type": "code",
   "execution_count": 8,
   "metadata": {},
   "outputs": [
    {
     "data": {
      "text/plain": [
       "(520523, 326)"
      ]
     },
     "execution_count": 8,
     "metadata": {},
     "output_type": "execute_result"
    }
   ],
   "source": [
    "df.shape"
   ]
  },
  {
   "cell_type": "markdown",
   "metadata": {},
   "source": [
    "### Viewing the data"
   ]
  },
  {
   "cell_type": "markdown",
   "metadata": {},
   "source": [
    "\n",
    "The following commands are helpful when viewing large datasets. \n",
    "* <code>head()</code> will show the first 5 rows. Similarly tail() will display the last 5 rows of the dataset. \n",
    "* <code>meta.variable_to_value()</code> can be used to view the column names and the formats for the dataset.\n",
    "* <code>meta.value_labels()</code> can be used to view the variable names (or field names) of the data and  coding values for the dataset.\n",
    "* <code>dtype()</code> will give an overview of the data type for the variable(or field names) in the dataset. \n",
    "    * To view a single variable, the <code>dtype()</code> command can be used by specifying the variable name in a dataset(ex. <code>df.SEX.dtype</code>). \n",
    "    \n",
    "***NOTE:*** The <code>dtype()</code> commands can be used on the entire dataset as well as a subset. Given the large size of the data, a subset used to limit the output displayed in the code cells below. \n",
    "* <code>pd.set_option()</code> can be used to display all the rows and to display the complete column contents for a pandas dataframe.          \n",
    "    * <code>pd.set_option('display.max_rows', None)</code>\n",
    "    * <code>pd.set_option('display.max_colwidth', 2000)</code>"
   ]
  },
  {
   "cell_type": "code",
   "execution_count": 9,
   "metadata": {
    "scrolled": true
   },
   "outputs": [
    {
     "data": {
      "text/html": [
       "<div>\n",
       "<style scoped>\n",
       "    .dataframe tbody tr th:only-of-type {\n",
       "        vertical-align: middle;\n",
       "    }\n",
       "\n",
       "    .dataframe tbody tr th {\n",
       "        vertical-align: top;\n",
       "    }\n",
       "\n",
       "    .dataframe thead th {\n",
       "        text-align: right;\n",
       "    }\n",
       "</style>\n",
       "<table border=\"1\" class=\"dataframe\">\n",
       "  <thead>\n",
       "    <tr style=\"text-align: right;\">\n",
       "      <th></th>\n",
       "      <th>AGE_CPAY_NEW</th>\n",
       "      <th>ADM_ID_FAN</th>\n",
       "      <th>SITE_ID</th>\n",
       "      <th>SITE_ID_FAN</th>\n",
       "      <th>FORMVER</th>\n",
       "      <th>COVIDDIAG</th>\n",
       "      <th>COVIDVACC</th>\n",
       "      <th>COVIDVACCDT</th>\n",
       "      <th>COVIDVACCDT_ND</th>\n",
       "      <th>COVIDVACCDOC</th>\n",
       "      <th>...</th>\n",
       "      <th>DURATION_SEC_ROC</th>\n",
       "      <th>DURATION_MIN_ROC</th>\n",
       "      <th>DURATION_SEC_TUBE</th>\n",
       "      <th>DURATION_MIN_TUBE</th>\n",
       "      <th>DURATION_SEC_TMAX</th>\n",
       "      <th>DURATION_MIN_TMAX</th>\n",
       "      <th>DURATION_SEC_VASVIA</th>\n",
       "      <th>DURATION_MIN_VASVIA</th>\n",
       "      <th>DURATION_SEC_VFPV</th>\n",
       "      <th>DURATION_MIN_VFPV</th>\n",
       "    </tr>\n",
       "  </thead>\n",
       "  <tbody>\n",
       "    <tr>\n",
       "      <th>0</th>\n",
       "      <td>57</td>\n",
       "      <td>4097749.0</td>\n",
       "      <td>32987.0</td>\n",
       "      <td>32987.0</td>\n",
       "      <td>NaN</td>\n",
       "      <td>NaN</td>\n",
       "      <td>NaN</td>\n",
       "      <td>NaN</td>\n",
       "      <td>NaN</td>\n",
       "      <td>NaN</td>\n",
       "      <td>...</td>\n",
       "      <td>NaN</td>\n",
       "      <td>NaN</td>\n",
       "      <td>241920.0</td>\n",
       "      <td>4032.0</td>\n",
       "      <td>NaN</td>\n",
       "      <td>NaN</td>\n",
       "      <td>NaN</td>\n",
       "      <td>NaN</td>\n",
       "      <td>NaN</td>\n",
       "      <td>NaN</td>\n",
       "    </tr>\n",
       "    <tr>\n",
       "      <th>1</th>\n",
       "      <td>77</td>\n",
       "      <td>4097975.0</td>\n",
       "      <td>31192.0</td>\n",
       "      <td>31192.0</td>\n",
       "      <td>NaN</td>\n",
       "      <td>NaN</td>\n",
       "      <td>NaN</td>\n",
       "      <td>NaN</td>\n",
       "      <td>NaN</td>\n",
       "      <td>NaN</td>\n",
       "      <td>...</td>\n",
       "      <td>30840.0</td>\n",
       "      <td>514.0</td>\n",
       "      <td>NaN</td>\n",
       "      <td>NaN</td>\n",
       "      <td>41400.0</td>\n",
       "      <td>690.0</td>\n",
       "      <td>NaN</td>\n",
       "      <td>NaN</td>\n",
       "      <td>NaN</td>\n",
       "      <td>NaN</td>\n",
       "    </tr>\n",
       "    <tr>\n",
       "      <th>2</th>\n",
       "      <td>61</td>\n",
       "      <td>4098327.0</td>\n",
       "      <td>57203.0</td>\n",
       "      <td>57203.0</td>\n",
       "      <td>NaN</td>\n",
       "      <td>NaN</td>\n",
       "      <td>NaN</td>\n",
       "      <td>NaN</td>\n",
       "      <td>NaN</td>\n",
       "      <td>NaN</td>\n",
       "      <td>...</td>\n",
       "      <td>NaN</td>\n",
       "      <td>NaN</td>\n",
       "      <td>205260.0</td>\n",
       "      <td>3421.0</td>\n",
       "      <td>209340.0</td>\n",
       "      <td>3489.0</td>\n",
       "      <td>NaN</td>\n",
       "      <td>NaN</td>\n",
       "      <td>NaN</td>\n",
       "      <td>NaN</td>\n",
       "    </tr>\n",
       "    <tr>\n",
       "      <th>3</th>\n",
       "      <td>76</td>\n",
       "      <td>4102670.0</td>\n",
       "      <td>31192.0</td>\n",
       "      <td>31192.0</td>\n",
       "      <td>201106.0</td>\n",
       "      <td>NaN</td>\n",
       "      <td>NaN</td>\n",
       "      <td>NaN</td>\n",
       "      <td>NaN</td>\n",
       "      <td>NaN</td>\n",
       "      <td>...</td>\n",
       "      <td>796440.0</td>\n",
       "      <td>13274.0</td>\n",
       "      <td>NaN</td>\n",
       "      <td>NaN</td>\n",
       "      <td>809520.0</td>\n",
       "      <td>13492.0</td>\n",
       "      <td>NaN</td>\n",
       "      <td>NaN</td>\n",
       "      <td>NaN</td>\n",
       "      <td>NaN</td>\n",
       "    </tr>\n",
       "    <tr>\n",
       "      <th>4</th>\n",
       "      <td>76</td>\n",
       "      <td>4102670.0</td>\n",
       "      <td>31192.0</td>\n",
       "      <td>31192.0</td>\n",
       "      <td>201106.0</td>\n",
       "      <td>NaN</td>\n",
       "      <td>NaN</td>\n",
       "      <td>NaN</td>\n",
       "      <td>NaN</td>\n",
       "      <td>NaN</td>\n",
       "      <td>...</td>\n",
       "      <td>NaN</td>\n",
       "      <td>NaN</td>\n",
       "      <td>NaN</td>\n",
       "      <td>NaN</td>\n",
       "      <td>NaN</td>\n",
       "      <td>NaN</td>\n",
       "      <td>NaN</td>\n",
       "      <td>NaN</td>\n",
       "      <td>NaN</td>\n",
       "      <td>NaN</td>\n",
       "    </tr>\n",
       "  </tbody>\n",
       "</table>\n",
       "<p>5 rows × 326 columns</p>\n",
       "</div>"
      ],
      "text/plain": [
       "  AGE_CPAY_NEW  ADM_ID_FAN  SITE_ID  SITE_ID_FAN   FORMVER  COVIDDIAG  \\\n",
       "0           57   4097749.0  32987.0      32987.0       NaN        NaN   \n",
       "1           77   4097975.0  31192.0      31192.0       NaN        NaN   \n",
       "2           61   4098327.0  57203.0      57203.0       NaN        NaN   \n",
       "3           76   4102670.0  31192.0      31192.0  201106.0        NaN   \n",
       "4           76   4102670.0  31192.0      31192.0  201106.0        NaN   \n",
       "\n",
       "   COVIDVACC COVIDVACCDT  COVIDVACCDT_ND  COVIDVACCDOC  ...  DURATION_SEC_ROC  \\\n",
       "0        NaN         NaN             NaN           NaN  ...               NaN   \n",
       "1        NaN         NaN             NaN           NaN  ...           30840.0   \n",
       "2        NaN         NaN             NaN           NaN  ...               NaN   \n",
       "3        NaN         NaN             NaN           NaN  ...          796440.0   \n",
       "4        NaN         NaN             NaN           NaN  ...               NaN   \n",
       "\n",
       "   DURATION_MIN_ROC DURATION_SEC_TUBE  DURATION_MIN_TUBE  DURATION_SEC_TMAX  \\\n",
       "0               NaN          241920.0             4032.0                NaN   \n",
       "1             514.0               NaN                NaN            41400.0   \n",
       "2               NaN          205260.0             3421.0           209340.0   \n",
       "3           13274.0               NaN                NaN           809520.0   \n",
       "4               NaN               NaN                NaN                NaN   \n",
       "\n",
       "  DURATION_MIN_TMAX  DURATION_SEC_VASVIA  DURATION_MIN_VASVIA  \\\n",
       "0               NaN                  NaN                  NaN   \n",
       "1             690.0                  NaN                  NaN   \n",
       "2            3489.0                  NaN                  NaN   \n",
       "3           13492.0                  NaN                  NaN   \n",
       "4               NaN                  NaN                  NaN   \n",
       "\n",
       "   DURATION_SEC_VFPV  DURATION_MIN_VFPV  \n",
       "0                NaN                NaN  \n",
       "1                NaN                NaN  \n",
       "2                NaN                NaN  \n",
       "3                NaN                NaN  \n",
       "4                NaN                NaN  \n",
       "\n",
       "[5 rows x 326 columns]"
      ]
     },
     "execution_count": 9,
     "metadata": {},
     "output_type": "execute_result"
    }
   ],
   "source": [
    "df.head()"
   ]
  },
  {
   "cell_type": "code",
   "execution_count": 10,
   "metadata": {},
   "outputs": [
    {
     "data": {
      "text/html": [
       "<div>\n",
       "<style scoped>\n",
       "    .dataframe tbody tr th:only-of-type {\n",
       "        vertical-align: middle;\n",
       "    }\n",
       "\n",
       "    .dataframe tbody tr th {\n",
       "        vertical-align: top;\n",
       "    }\n",
       "\n",
       "    .dataframe thead th {\n",
       "        text-align: right;\n",
       "    }\n",
       "</style>\n",
       "<table border=\"1\" class=\"dataframe\">\n",
       "  <thead>\n",
       "    <tr style=\"text-align: right;\">\n",
       "      <th></th>\n",
       "      <th>FMTNAME</th>\n",
       "      <th>START</th>\n",
       "      <th>END</th>\n",
       "      <th>LABEL</th>\n",
       "      <th>MIN</th>\n",
       "      <th>MAX</th>\n",
       "      <th>DEFAULT</th>\n",
       "      <th>LENGTH</th>\n",
       "      <th>FUZZ</th>\n",
       "      <th>PREFIX</th>\n",
       "      <th>...</th>\n",
       "      <th>FILL</th>\n",
       "      <th>NOEDIT</th>\n",
       "      <th>TYPE</th>\n",
       "      <th>SEXCL</th>\n",
       "      <th>EEXCL</th>\n",
       "      <th>HLO</th>\n",
       "      <th>DECSEP</th>\n",
       "      <th>DIG3SEP</th>\n",
       "      <th>DATATYPE</th>\n",
       "      <th>LANGUAGE</th>\n",
       "    </tr>\n",
       "  </thead>\n",
       "  <tbody>\n",
       "    <tr>\n",
       "      <th>0</th>\n",
       "      <td>ACTIVECF</td>\n",
       "      <td>1</td>\n",
       "      <td>1</td>\n",
       "      <td>1: Surface Cooling</td>\n",
       "      <td>1.0</td>\n",
       "      <td>48.0</td>\n",
       "      <td>48.0</td>\n",
       "      <td>48.0</td>\n",
       "      <td>1.000000e-12</td>\n",
       "      <td></td>\n",
       "      <td>...</td>\n",
       "      <td></td>\n",
       "      <td>0.0</td>\n",
       "      <td>N</td>\n",
       "      <td>N</td>\n",
       "      <td>N</td>\n",
       "      <td></td>\n",
       "      <td></td>\n",
       "      <td></td>\n",
       "      <td></td>\n",
       "      <td></td>\n",
       "    </tr>\n",
       "    <tr>\n",
       "      <th>1</th>\n",
       "      <td>ACTIVECF</td>\n",
       "      <td>2</td>\n",
       "      <td>2</td>\n",
       "      <td>2: Cold IV Saline Bolus</td>\n",
       "      <td>1.0</td>\n",
       "      <td>48.0</td>\n",
       "      <td>48.0</td>\n",
       "      <td>48.0</td>\n",
       "      <td>1.000000e-12</td>\n",
       "      <td></td>\n",
       "      <td>...</td>\n",
       "      <td></td>\n",
       "      <td>0.0</td>\n",
       "      <td>N</td>\n",
       "      <td>N</td>\n",
       "      <td>N</td>\n",
       "      <td></td>\n",
       "      <td></td>\n",
       "      <td></td>\n",
       "      <td></td>\n",
       "      <td></td>\n",
       "    </tr>\n",
       "    <tr>\n",
       "      <th>2</th>\n",
       "      <td>ACTIVECF</td>\n",
       "      <td>3</td>\n",
       "      <td>3</td>\n",
       "      <td>3: Intravascular device or catheter (continuous)</td>\n",
       "      <td>1.0</td>\n",
       "      <td>48.0</td>\n",
       "      <td>48.0</td>\n",
       "      <td>48.0</td>\n",
       "      <td>1.000000e-12</td>\n",
       "      <td></td>\n",
       "      <td>...</td>\n",
       "      <td></td>\n",
       "      <td>0.0</td>\n",
       "      <td>N</td>\n",
       "      <td>N</td>\n",
       "      <td>N</td>\n",
       "      <td></td>\n",
       "      <td></td>\n",
       "      <td></td>\n",
       "      <td></td>\n",
       "      <td></td>\n",
       "    </tr>\n",
       "    <tr>\n",
       "      <th>3</th>\n",
       "      <td>ACTIVECF</td>\n",
       "      <td>4</td>\n",
       "      <td>4</td>\n",
       "      <td>4: Intranasal</td>\n",
       "      <td>1.0</td>\n",
       "      <td>48.0</td>\n",
       "      <td>48.0</td>\n",
       "      <td>48.0</td>\n",
       "      <td>1.000000e-12</td>\n",
       "      <td></td>\n",
       "      <td>...</td>\n",
       "      <td></td>\n",
       "      <td>0.0</td>\n",
       "      <td>N</td>\n",
       "      <td>N</td>\n",
       "      <td>N</td>\n",
       "      <td></td>\n",
       "      <td></td>\n",
       "      <td></td>\n",
       "      <td></td>\n",
       "      <td></td>\n",
       "    </tr>\n",
       "    <tr>\n",
       "      <th>4</th>\n",
       "      <td>ACTIVECF</td>\n",
       "      <td>5</td>\n",
       "      <td>5</td>\n",
       "      <td>5: Antipyretics</td>\n",
       "      <td>1.0</td>\n",
       "      <td>48.0</td>\n",
       "      <td>48.0</td>\n",
       "      <td>48.0</td>\n",
       "      <td>1.000000e-12</td>\n",
       "      <td></td>\n",
       "      <td>...</td>\n",
       "      <td></td>\n",
       "      <td>0.0</td>\n",
       "      <td>N</td>\n",
       "      <td>N</td>\n",
       "      <td>N</td>\n",
       "      <td></td>\n",
       "      <td></td>\n",
       "      <td></td>\n",
       "      <td></td>\n",
       "      <td></td>\n",
       "    </tr>\n",
       "  </tbody>\n",
       "</table>\n",
       "<p>5 rows × 21 columns</p>\n",
       "</div>"
      ],
      "text/plain": [
       "    FMTNAME             START               END  \\\n",
       "0  ACTIVECF                 1                 1   \n",
       "1  ACTIVECF                 2                 2   \n",
       "2  ACTIVECF                 3                 3   \n",
       "3  ACTIVECF                 4                 4   \n",
       "4  ACTIVECF                 5                 5   \n",
       "\n",
       "                                              LABEL  MIN   MAX  DEFAULT  \\\n",
       "0                                1: Surface Cooling  1.0  48.0     48.0   \n",
       "1                           2: Cold IV Saline Bolus  1.0  48.0     48.0   \n",
       "2  3: Intravascular device or catheter (continuous)  1.0  48.0     48.0   \n",
       "3                                     4: Intranasal  1.0  48.0     48.0   \n",
       "4                                   5: Antipyretics  1.0  48.0     48.0   \n",
       "\n",
       "   LENGTH          FUZZ PREFIX  ...  FILL NOEDIT  TYPE SEXCL EEXCL HLO DECSEP  \\\n",
       "0    48.0  1.000000e-12         ...          0.0     N     N     N              \n",
       "1    48.0  1.000000e-12         ...          0.0     N     N     N              \n",
       "2    48.0  1.000000e-12         ...          0.0     N     N     N              \n",
       "3    48.0  1.000000e-12         ...          0.0     N     N     N              \n",
       "4    48.0  1.000000e-12         ...          0.0     N     N     N              \n",
       "\n",
       "  DIG3SEP DATATYPE LANGUAGE  \n",
       "0                            \n",
       "1                            \n",
       "2                            \n",
       "3                            \n",
       "4                            \n",
       "\n",
       "[5 rows x 21 columns]"
      ]
     },
     "execution_count": 10,
     "metadata": {},
     "output_type": "execute_result"
    }
   ],
   "source": [
    "formats.head()"
   ]
  },
  {
   "cell_type": "code",
   "execution_count": 11,
   "metadata": {},
   "outputs": [
    {
     "data": {
      "text/html": [
       "<div>\n",
       "<style scoped>\n",
       "    .dataframe tbody tr th:only-of-type {\n",
       "        vertical-align: middle;\n",
       "    }\n",
       "\n",
       "    .dataframe tbody tr th {\n",
       "        vertical-align: top;\n",
       "    }\n",
       "\n",
       "    .dataframe thead th {\n",
       "        text-align: right;\n",
       "    }\n",
       "</style>\n",
       "<table border=\"1\" class=\"dataframe\">\n",
       "  <thead>\n",
       "    <tr style=\"text-align: right;\">\n",
       "      <th></th>\n",
       "      <th>Data Type</th>\n",
       "    </tr>\n",
       "  </thead>\n",
       "  <tbody>\n",
       "    <tr>\n",
       "      <th>AGE_CPAY_NEW</th>\n",
       "      <td>object</td>\n",
       "    </tr>\n",
       "    <tr>\n",
       "      <th>ADM_ID_FAN</th>\n",
       "      <td>float64</td>\n",
       "    </tr>\n",
       "    <tr>\n",
       "      <th>SITE_ID</th>\n",
       "      <td>float64</td>\n",
       "    </tr>\n",
       "    <tr>\n",
       "      <th>SITE_ID_FAN</th>\n",
       "      <td>float64</td>\n",
       "    </tr>\n",
       "    <tr>\n",
       "      <th>FORMVER</th>\n",
       "      <td>float64</td>\n",
       "    </tr>\n",
       "    <tr>\n",
       "      <th>...</th>\n",
       "      <td>...</td>\n",
       "    </tr>\n",
       "    <tr>\n",
       "      <th>DURATION_MIN_TMAX</th>\n",
       "      <td>float64</td>\n",
       "    </tr>\n",
       "    <tr>\n",
       "      <th>DURATION_SEC_VASVIA</th>\n",
       "      <td>float64</td>\n",
       "    </tr>\n",
       "    <tr>\n",
       "      <th>DURATION_MIN_VASVIA</th>\n",
       "      <td>float64</td>\n",
       "    </tr>\n",
       "    <tr>\n",
       "      <th>DURATION_SEC_VFPV</th>\n",
       "      <td>float64</td>\n",
       "    </tr>\n",
       "    <tr>\n",
       "      <th>DURATION_MIN_VFPV</th>\n",
       "      <td>float64</td>\n",
       "    </tr>\n",
       "  </tbody>\n",
       "</table>\n",
       "<p>326 rows × 1 columns</p>\n",
       "</div>"
      ],
      "text/plain": [
       "                    Data Type\n",
       "AGE_CPAY_NEW           object\n",
       "ADM_ID_FAN            float64\n",
       "SITE_ID               float64\n",
       "SITE_ID_FAN           float64\n",
       "FORMVER               float64\n",
       "...                       ...\n",
       "DURATION_MIN_TMAX     float64\n",
       "DURATION_SEC_VASVIA   float64\n",
       "DURATION_MIN_VASVIA   float64\n",
       "DURATION_SEC_VFPV     float64\n",
       "DURATION_MIN_VFPV     float64\n",
       "\n",
       "[326 rows x 1 columns]"
      ]
     },
     "execution_count": 11,
     "metadata": {},
     "output_type": "execute_result"
    }
   ],
   "source": [
    "df_data_types = pd.DataFrame(df.dtypes, columns={'Data Type'}) #view the data type of each column \n",
    "df_data_types"
   ]
  },
  {
   "cell_type": "markdown",
   "metadata": {},
   "source": [
    "# <span style='width:50%; color:#C10E21; border-bottom:0.25rem  solid #f3f3f3;'>Tables and Summary Statistics</span>"
   ]
  },
  {
   "cell_type": "markdown",
   "metadata": {},
   "source": [
    "### Tables and Frequencies "
   ]
  },
  {
   "cell_type": "markdown",
   "metadata": {},
   "source": [
    "Getting the counts of one or multiple variables is easy in Python with the <code>value_counts</code> function.  The <code>value_counts()</code> function will create a set of counts. This function can be used to get counts of categorical variables in the data, as shown in the code below, which makes a table of the number of patients by <code>RACE</code> variable. You could set the <code>dropna</code> can be used to include or exclude null values by setting to True or False. "
   ]
  },
  {
   "cell_type": "code",
   "execution_count": 12,
   "metadata": {},
   "outputs": [
    {
     "data": {
      "text/html": [
       "<div>\n",
       "<style scoped>\n",
       "    .dataframe tbody tr th:only-of-type {\n",
       "        vertical-align: middle;\n",
       "    }\n",
       "\n",
       "    .dataframe tbody tr th {\n",
       "        vertical-align: top;\n",
       "    }\n",
       "\n",
       "    .dataframe thead th {\n",
       "        text-align: right;\n",
       "    }\n",
       "</style>\n",
       "<table border=\"1\" class=\"dataframe\">\n",
       "  <thead>\n",
       "    <tr style=\"text-align: right;\">\n",
       "      <th></th>\n",
       "      <th>RACE</th>\n",
       "    </tr>\n",
       "  </thead>\n",
       "  <tbody>\n",
       "    <tr>\n",
       "      <th>1.0</th>\n",
       "      <td>344713</td>\n",
       "    </tr>\n",
       "    <tr>\n",
       "      <th>2.0</th>\n",
       "      <td>121159</td>\n",
       "    </tr>\n",
       "    <tr>\n",
       "      <th>5.0</th>\n",
       "      <td>35155</td>\n",
       "    </tr>\n",
       "    <tr>\n",
       "      <th>3.0</th>\n",
       "      <td>9194</td>\n",
       "    </tr>\n",
       "    <tr>\n",
       "      <th>6.0</th>\n",
       "      <td>4533</td>\n",
       "    </tr>\n",
       "    <tr>\n",
       "      <th>4.0</th>\n",
       "      <td>2649</td>\n",
       "    </tr>\n",
       "    <tr>\n",
       "      <th>NaN</th>\n",
       "      <td>2077</td>\n",
       "    </tr>\n",
       "    <tr>\n",
       "      <th>7.0</th>\n",
       "      <td>1043</td>\n",
       "    </tr>\n",
       "  </tbody>\n",
       "</table>\n",
       "</div>"
      ],
      "text/plain": [
       "       RACE\n",
       "1.0  344713\n",
       "2.0  121159\n",
       "5.0   35155\n",
       "3.0    9194\n",
       "6.0    4533\n",
       "4.0    2649\n",
       "NaN    2077\n",
       "7.0    1043"
      ]
     },
     "execution_count": 12,
     "metadata": {},
     "output_type": "execute_result"
    }
   ],
   "source": [
    "pd.DataFrame(df.RACE.value_counts(dropna = False)) #dropna = False will show counts for missingness"
   ]
  },
  {
   "cell_type": "markdown",
   "metadata": {},
   "source": [
    "##### Mapping coding labels to a categorical variable. \n",
    "To map the coding labels, the <code>meta.original_variable_types[&lt;column name&gt;]</code> command can be used to look up coding in the formats dataframe. The code below uses <code>.astype('category')</code> and <code>.cat.rename_categories()</code> to convert a variable to type category with the appropriate coding labels. <i><b>Note:</b> variables with missingness will have missing labels first, which should be removed or accounted for when mapping.</i>"
   ]
  },
  {
   "cell_type": "code",
   "execution_count": 13,
   "metadata": {},
   "outputs": [
    {
     "data": {
      "text/html": [
       "<div>\n",
       "<style scoped>\n",
       "    .dataframe tbody tr th:only-of-type {\n",
       "        vertical-align: middle;\n",
       "    }\n",
       "\n",
       "    .dataframe tbody tr th {\n",
       "        vertical-align: top;\n",
       "    }\n",
       "\n",
       "    .dataframe thead th {\n",
       "        text-align: right;\n",
       "    }\n",
       "</style>\n",
       "<table border=\"1\" class=\"dataframe\">\n",
       "  <thead>\n",
       "    <tr style=\"text-align: right;\">\n",
       "      <th></th>\n",
       "      <th>RACE</th>\n",
       "    </tr>\n",
       "  </thead>\n",
       "  <tbody>\n",
       "    <tr>\n",
       "      <th>1:White</th>\n",
       "      <td>344713</td>\n",
       "    </tr>\n",
       "    <tr>\n",
       "      <th>2:Black</th>\n",
       "      <td>121159</td>\n",
       "    </tr>\n",
       "    <tr>\n",
       "      <th>5:Unable to Det/Unk/NotD</th>\n",
       "      <td>35155</td>\n",
       "    </tr>\n",
       "    <tr>\n",
       "      <th>3:Asian</th>\n",
       "      <td>9194</td>\n",
       "    </tr>\n",
       "    <tr>\n",
       "      <th>6:Other</th>\n",
       "      <td>4533</td>\n",
       "    </tr>\n",
       "    <tr>\n",
       "      <th>4:AmerInd/Esk</th>\n",
       "      <td>2649</td>\n",
       "    </tr>\n",
       "    <tr>\n",
       "      <th>NaN</th>\n",
       "      <td>2077</td>\n",
       "    </tr>\n",
       "    <tr>\n",
       "      <th>7:NatHaw/PacIsl</th>\n",
       "      <td>1043</td>\n",
       "    </tr>\n",
       "  </tbody>\n",
       "</table>\n",
       "</div>"
      ],
      "text/plain": [
       "                            RACE\n",
       "1:White                   344713\n",
       "2:Black                   121159\n",
       "5:Unable to Det/Unk/NotD   35155\n",
       "3:Asian                     9194\n",
       "6:Other                     4533\n",
       "4:AmerInd/Esk               2649\n",
       "NaN                         2077\n",
       "7:NatHaw/PacIsl             1043"
      ]
     },
     "execution_count": 13,
     "metadata": {},
     "output_type": "execute_result"
    }
   ],
   "source": [
    "#get coding for df variable METHDIAG\n",
    "coding = formats[formats[\"FMTNAME\"] == meta.original_variable_types[\"RACE\"]][\"LABEL\"][0:7]\n",
    "#change variable type to category with coding labels\n",
    "df[\"RACE\"]=df[\"RACE\"].astype('category')\n",
    "df[\"RACE\"]=df[\"RACE\"].cat.rename_categories(coding.to_list())\n",
    "#tabulate variable with labels\n",
    "pd.DataFrame(df.RACE.value_counts(dropna = False))"
   ]
  },
  {
   "cell_type": "markdown",
   "metadata": {},
   "source": [
    "### Summary Statistics  \n",
    "The <code>describe()</code> command can be used to view distribution statistics for all variables <code>df.describe()</code> in the data or for a single variable. The summary command will display frequencies, mean, median, min, max for all the variables except for the category variables. \n",
    "    \n",
    "***NOTE:*** <code>describe()</code> can be used on the entire dataset. Given the large size of the data, the command is called on a single variable below to limit the output displayed* "
   ]
  },
  {
   "cell_type": "code",
   "execution_count": 29,
   "metadata": {},
   "outputs": [
    {
     "data": {
      "text/plain": [
       "count    451791.000000\n",
       "mean         64.999316\n",
       "std          15.848684\n",
       "min          18.000000\n",
       "25%          55.000000\n",
       "50%          67.000000\n",
       "75%          77.000000\n",
       "max         112.000000\n",
       "Name: AGE_ADMY, dtype: float64"
      ]
     },
     "execution_count": 29,
     "metadata": {},
     "output_type": "execute_result"
    }
   ],
   "source": [
    "df.AGE_ADMY.describe()"
   ]
  },
  {
   "cell_type": "markdown",
   "metadata": {},
   "source": [
    "# <span style='width:50%; color:#C10E21; border-bottom:0.25rem  solid #f3f3f3;'>Need Help?</span>\n",
    "### Internet access in a PMP workspace\n",
    "   * Google and other useful programming sites including git and stack overflow are available in the workspace. Simply add a tab on by clicking the + on the blue, browser bar above.\n",
    "\n",
    "\n",
    "###  Billing, Data, or Analysis Questions?\n",
    "   * If you have questions about your account, billing, the GWTG data, or would like to request analysis help from the AHA Data Science Team, please file a ticket with the data team by selecting [Contact Us](https://precision.heart.org/contact) on the PMP portal under the About tab.\n",
    "    \n",
    "    \n",
    "### Technical Questions or Issues?\n",
    "   * If you are having technical trouble installing software or packages, using the workspace or software in the workspace,  please file a ticket with support by selecting [technical support](https://precision.heart.org/technical-support) on the PMP portal under the About tab.  "
   ]
  },
  {
   "cell_type": "markdown",
   "metadata": {},
   "source": [
    "# <span style='width:50%; color:#C10E21; border-bottom:0.25rem  solid #f3f3f3;'>References</span>\n",
    "###  Helpful Python Packages\n",
    "   * Loading SAS files in Python\n",
    "        * [pandas-loading files](https://pandas.pydata.org/docs/user_guide/io.html)\n",
    "   * Data Manipulation\n",
    "        * [pandas](https://pandas.pydata.org/)\n",
    "   * Tables and display\n",
    "        * [pandas-styling](https://pandas.pydata.org/docs/user_guide/style.html)\n",
    "   * Plotting and Graphs\n",
    "        * [plotly](https://plotly.com/python/)\n",
    "        * [matplotlib](https://matplotlib.org/)      \n",
    "   \n",
    "### Python Tutorials \n",
    "   * [Data Science with Python](https://realpython.com/tutorials/data-science/)\n",
    "   * [Python documentation](https://docs.python.org/3/tutorial/index.html)\n",
    "   \n",
    "### Academic Publications and Guidelines\n",
    "   * [Descriptives Explanation](https://www.socialresearchmethods.net/kb/statdesc.php)\n",
    "   * [Reporting Descriptives in Clinical Studies](https://trialsjournal.biomedcentral.com/articles/10.1186/s13063-016-1189-4)"
   ]
  },
  {
   "cell_type": "markdown",
   "metadata": {},
   "source": [
    "<div style='padding-top:5px; border-top:0.25rem solid #f3f3f3;  font-size:1.5rem; color:#6D6E71; text-align:center;  padding-left:5%; padding-right:15%'>Use of the AHA Get With The Guidelines  <span>&#174;</span> Datasets in the Precision Medicine Platform is a strategic initiative of the American Heart Association's Institute for Precision Cardiovascular Medicine. The Platform is supported by Hitachi Vantara and powered by Amazon Web Services.\n",
    "        <img src=https://www.hitachivantara.com/content/dam/public/en_us/images/sharing-graphic.jpg alt='Drawing' style='height:75px; margin-top:-5px;  float:center'>\n",
    "         <img src='https://a0.awsstatic.com/libra-css/images/logos/aws_logo_smile_1200x630.png'  alt='Drawing' style='height:75px; margin-top:-10px; float:center;'>\n",
    "</div>"
   ]
  }
 ],
 "metadata": {
  "celltoolbar": "Raw Cell Format",
  "hide_input": false,
  "kernelspec": {
   "display_name": "Python 3",
   "language": "python",
   "name": "python3"
  },
  "language_info": {
   "codemirror_mode": {
    "name": "ipython",
    "version": 3
   },
   "file_extension": ".py",
   "mimetype": "text/x-python",
   "name": "python",
   "nbconvert_exporter": "python",
   "pygments_lexer": "ipython3",
   "version": "3.7.10"
  },
  "toc": {
   "base_numbering": "",
   "nav_menu": {
    "height": "501px",
    "width": "668px"
   },
   "number_sections": false,
   "sideBar": true,
   "skip_h1_title": false,
   "title_cell": "Table of Contents",
   "title_sidebar": "Contents",
   "toc_cell": true,
   "toc_position": {
    "height": "467px",
    "left": "0px",
    "right": "1095px",
    "top": "107px",
    "width": "260px"
   },
   "toc_section_display": false,
   "toc_window_display": true
  }
 },
 "nbformat": 4,
 "nbformat_minor": 4
}
